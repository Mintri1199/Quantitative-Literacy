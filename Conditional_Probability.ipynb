{
 "cells": [
  {
   "cell_type": "code",
   "execution_count": 1,
   "metadata": {},
   "outputs": [
    {
     "output_type": "execute_result",
     "data": {
      "text/plain": "      Level of Education  Under $20000  $20000 to $30000  Over $30000\n0  Less than high school            69                36            2\n1            High School           112                98           14\n2           Some College           102               193          143\n3           Some College            13               173          245",
      "text/html": "<div>\n<style scoped>\n    .dataframe tbody tr th:only-of-type {\n        vertical-align: middle;\n    }\n\n    .dataframe tbody tr th {\n        vertical-align: top;\n    }\n\n    .dataframe thead th {\n        text-align: right;\n    }\n</style>\n<table border=\"1\" class=\"dataframe\">\n  <thead>\n    <tr style=\"text-align: right;\">\n      <th></th>\n      <th>Level of Education</th>\n      <th>Under $20000</th>\n      <th>$20000 to $30000</th>\n      <th>Over $30000</th>\n    </tr>\n  </thead>\n  <tbody>\n    <tr>\n      <th>0</th>\n      <td>Less than high school</td>\n      <td>69</td>\n      <td>36</td>\n      <td>2</td>\n    </tr>\n    <tr>\n      <th>1</th>\n      <td>High School</td>\n      <td>112</td>\n      <td>98</td>\n      <td>14</td>\n    </tr>\n    <tr>\n      <th>2</th>\n      <td>Some College</td>\n      <td>102</td>\n      <td>193</td>\n      <td>143</td>\n    </tr>\n    <tr>\n      <th>3</th>\n      <td>Some College</td>\n      <td>13</td>\n      <td>173</td>\n      <td>245</td>\n    </tr>\n  </tbody>\n</table>\n</div>"
     },
     "metadata": {},
     "execution_count": 1
    }
   ],
   "source": [
    "import pandas as pd\n",
    "\n",
    "df = pd.read_csv('dataset/conditional_probability.csv')\n",
    "df"
   ]
  },
  {
   "cell_type": "code",
   "execution_count": 2,
   "metadata": {},
   "outputs": [
    {
     "output_type": "execute_result",
     "data": {
      "text/plain": "0.08916666666666667"
     },
     "metadata": {},
     "execution_count": 2
    }
   ],
   "source": [
    "# P(employee has less than a high school education) = The probability of a employee that had less than a high school education\n",
    "\n",
    "total_emp = 1200\n",
    "less_than_high_school_emp = 107\n",
    "\n",
    "less_than_high_school_emp / total_emp"
   ]
  },
  {
   "cell_type": "code",
   "execution_count": 3,
   "metadata": {},
   "outputs": [
    {
     "output_type": "execute_result",
     "data": {
      "text/plain": "0.24666666666666667"
     },
     "metadata": {},
     "execution_count": 3
    }
   ],
   "source": [
    "# P(employe earns under $20,000) = The probability of a employee that earn under $20,000\n",
    "\n",
    "total_under_20000 = 296\n",
    "\n",
    "total_under_20000 / total_emp"
   ]
  },
  {
   "cell_type": "code",
   "execution_count": 4,
   "metadata": {},
   "outputs": [
    {
     "output_type": "execute_result",
     "data": {
      "text/plain": "0.0016666666666666668"
     },
     "metadata": {},
     "execution_count": 4
    }
   ],
   "source": [
    "#  P(employee earns over $30,000 and has less than a high school education) = The probability of an employee that earn over $30,000 with a less than high school level education\n",
    "\n",
    "hard_worker = 2\n",
    "hard_worker / total_emp"
   ]
  },
  {
   "cell_type": "code",
   "execution_count": 5,
   "metadata": {},
   "outputs": [
    {
     "output_type": "execute_result",
     "data": {
      "text/plain": "0.09583333333333334"
     },
     "metadata": {},
     "execution_count": 5
    }
   ],
   "source": [
    "# P(employee earns under $20,000 and has a college degree) = The probability of an employee that earn under $20,000 with a college degree\n",
    "\n",
    "starving_graduates = 115\n",
    "starving_graduates / total_emp"
   ]
  },
  {
   "cell_type": "code",
   "execution_count": 6,
   "metadata": {
    "tags": []
   },
   "outputs": [
    {
     "output_type": "execute_result",
     "data": {
      "text/plain": "0.33666666666666667"
     },
     "metadata": {},
     "execution_count": 6
    }
   ],
   "source": [
    "#  P(H|E)\n",
    "#  P(employee earns over $30,000 | has only high school education) = The probability of an employee that earn over $30,000 given with a high school education \n",
    "hs_emp = 224\n",
    "emp_30000 = 404\n",
    "\n",
    "#  P(H)\n",
    "p_of_30000_emp = emp_30000 / total_emp\n",
    "\n",
    "#  P(E)\n",
    "p_of_hs_emp = hs_emp / total_emp\n",
    "\n",
    "# P(H) * P(E)\n",
    "numerator = p_of_30000_emp * p_of_hs_emp\n",
    "\n",
    "#  P(E)\n",
    "denominator = p_of_hs_emp\n",
    "\n",
    "numerator / denominator"
   ]
  },
  {
   "cell_type": "code",
   "execution_count": 7,
   "metadata": {},
   "outputs": [
    {
     "output_type": "execute_result",
     "data": {
      "text/plain": "0.33666666666666667"
     },
     "metadata": {},
     "execution_count": 7
    }
   ],
   "source": [
    "numer = p_of_30000_emp * p_of_hs_emp\n",
    "\n",
    "numer / p_of_hs_emp"
   ]
  },
  {
   "cell_type": "code",
   "execution_count": 41,
   "metadata": {},
   "outputs": [
    {
     "output_type": "execute_result",
     "data": {
      "text/plain": "0.08916666666666667"
     },
     "metadata": {},
     "execution_count": 41
    }
   ],
   "source": [
    "# P(employee has less than high school education | earns over $30,000) = The probability of an employee with a less than high school level education given that they earn over $30,000\n",
    "\n",
    "#  P(H)\n",
    "p_less_than_hs_emp = less_than_high_school_emp / total_emp\n",
    "\n",
    "#  P(E)\n",
    "p_over_30000 = emp_30000 / total_emp\n",
    "\n",
    "# P(H) * P(E)\n",
    "numerator = p_less_than_hs_emp * p_over_30000\n",
    "\n",
    "numerator / p_over_30000"
   ]
  },
  {
   "cell_type": "code",
   "execution_count": 9,
   "metadata": {},
   "outputs": [
    {
     "output_type": "execute_result",
     "data": {
      "text/plain": "   Gender   Biology   Physics   Chemistry\n0    Male        40        16          35\n1  Female        15        24          20",
      "text/html": "<div>\n<style scoped>\n    .dataframe tbody tr th:only-of-type {\n        vertical-align: middle;\n    }\n\n    .dataframe tbody tr th {\n        vertical-align: top;\n    }\n\n    .dataframe thead th {\n        text-align: right;\n    }\n</style>\n<table border=\"1\" class=\"dataframe\">\n  <thead>\n    <tr style=\"text-align: right;\">\n      <th></th>\n      <th>Gender</th>\n      <th>Biology</th>\n      <th>Physics</th>\n      <th>Chemistry</th>\n    </tr>\n  </thead>\n  <tbody>\n    <tr>\n      <th>0</th>\n      <td>Male</td>\n      <td>40</td>\n      <td>16</td>\n      <td>35</td>\n    </tr>\n    <tr>\n      <th>1</th>\n      <td>Female</td>\n      <td>15</td>\n      <td>24</td>\n      <td>20</td>\n    </tr>\n  </tbody>\n</table>\n</div>"
     },
     "metadata": {},
     "execution_count": 9
    }
   ],
   "source": [
    "classes_df = pd.read_csv('dataset/classes.csv')\n",
    "classes_df"
   ]
  },
  {
   "cell_type": "code",
   "execution_count": 10,
   "metadata": {
    "tags": []
   },
   "outputs": [
    {
     "output_type": "execute_result",
     "data": {
      "text/plain": "0.6066666666666667"
     },
     "metadata": {},
     "execution_count": 10
    }
   ],
   "source": [
    "males = 91\n",
    "females = 59\n",
    "total = males + females\n",
    "# P(males) = probability of a new student being male\n",
    "males / total"
   ]
  },
  {
   "cell_type": "code",
   "execution_count": 11,
   "metadata": {},
   "outputs": [
    {
     "output_type": "execute_result",
     "data": {
      "text/plain": "0.9733333333333334"
     },
     "metadata": {},
     "execution_count": 11
    }
   ],
   "source": [
    "# P(males or Chemistry) = probability of a new student being male or major in Chemistry\n",
    "\n",
    "p_males = males / total\n",
    "p_chemisty = 55 / total\n",
    "\n",
    "p_males + p_chemisty"
   ]
  },
  {
   "cell_type": "code",
   "execution_count": 42,
   "metadata": {
    "tags": []
   },
   "outputs": [
    {
     "output_type": "execute_result",
     "data": {
      "text/plain": "0.26666666666666666"
     },
     "metadata": {},
     "execution_count": 42
    }
   ],
   "source": [
    "# P(majors in Physics | male) = probability of a new student majoring in Physics given the chance that they are male\n",
    "\n",
    "#  P(H) probability of majoring in Physics\n",
    "p_physics = 40 / 150\n",
    "\n",
    "#  P(E) probability of male\n",
    "p_males\n",
    "\n",
    "# P(H) * P(E)\n",
    "numerator = p_physics * p_males\n",
    "\n",
    "numerator / p_males"
   ]
  },
  {
   "cell_type": "code",
   "execution_count": 13,
   "metadata": {},
   "outputs": [
    {
     "output_type": "execute_result",
     "data": {
      "text/plain": "1.0"
     },
     "metadata": {},
     "execution_count": 13
    }
   ],
   "source": [
    "arr = [5, 6, 7, 8, 9, 10, 11, 12, 13, 14]\n",
    "size = len(arr)\n",
    "# P(integer) probability of being an interger\n",
    "size / size "
   ]
  },
  {
   "cell_type": "code",
   "execution_count": 43,
   "metadata": {},
   "outputs": [
    {
     "output_type": "execute_result",
     "data": {
      "text/plain": "0.5"
     },
     "metadata": {},
     "execution_count": 43
    }
   ],
   "source": [
    "# P(P(less than 10 | less than 13) probability of the number beiing less than 10 given chance of being randomly picked that is less than 13\n",
    "\n",
    "num_less_than_13 = size - 2\n",
    "\n",
    "# P(H) probability of number less than 10\n",
    "less_than_10 = len([x for x in arr if x < 10])\n",
    "p_less_than_10 = less_than_10 / size\n",
    "\n",
    "# P(E) probability of number is less than 13\n",
    "p_less_than_13 = num_less_than_13 / size\n",
    "\n",
    "# P(H) * P(E)\n",
    "numerator = p_less_than_10 * p_less_than_13\n",
    "\n",
    "numerator / p_less_than_13"
   ]
  },
  {
   "cell_type": "code",
   "execution_count": 44,
   "metadata": {},
   "outputs": [
    {
     "output_type": "execute_result",
     "data": {
      "text/plain": "0.6"
     },
     "metadata": {},
     "execution_count": 44
    }
   ],
   "source": [
    "# P(greater than 8 | less than 11) probability of the number being greater than 8 given chance of being randomly picked that is less than 11\n",
    "\n",
    "num_less_than_11 = size - 4\n",
    "\n",
    "# P(H) probability of number greater than 8\n",
    "more_than_8 = len([x for x in arr if x > 8])\n",
    "p_more_than_8 = more_than_8 / size\n",
    "\n",
    "# P(E) probability of number is less than 11\n",
    "p_less_than_11 = num_less_than_11 / size\n",
    "\n",
    "# P(H) * P(E|H)\n",
    "numerator = p_more_than_8 * p_less_than_11\n",
    "\n",
    "numerator / p_less_than_11"
   ]
  },
  {
   "cell_type": "code",
   "execution_count": 45,
   "metadata": {},
   "outputs": [
    {
     "output_type": "execute_result",
     "data": {
      "text/plain": "0.7"
     },
     "metadata": {},
     "execution_count": 45
    }
   ],
   "source": [
    "# P(greater than 7 | greater than 12) probability of the number being greater than 7 given chance of being randomly picked that is greater than 12\n",
    "\n",
    "num_more_than_12 = size - 3\n",
    "\n",
    "# P(H) probability of number greater than 7\n",
    "more_than_7 = len([x for x in arr if x > 7])\n",
    "p_more_than_7 = more_than_7 / size\n",
    "\n",
    "# P(E) probability of number is more than 12\n",
    "p_more_than_12 = num_more_than_12 / size\n",
    "\n",
    "# P(H) * P(E|H)\n",
    "numerator = p_more_than_7 * p_more_than_12\n",
    "\n",
    "numerator / p_more_than_12"
   ]
  },
  {
   "cell_type": "markdown",
   "metadata": {},
   "source": [
    "<img src=\"images/walk_cycle.png\"/>"
   ]
  },
  {
   "cell_type": "code",
   "execution_count": 17,
   "metadata": {},
   "outputs": [
    {
     "output_type": "execute_result",
     "data": {
      "text/plain": "0.0625"
     },
     "metadata": {},
     "execution_count": 17
    }
   ],
   "source": [
    "# Maria travels to school either by walking or by bicycle. The probability she cycles to school is 0.75. If she walks the probability that she is late for school is 0.1 and if she cycles, the probability that she is late for school is 0.05.\n",
    "\n",
    "# Find the probability that Maria is late for school.\n",
    "\n",
    "walk = 0.25\n",
    "cycle = 0.75\n",
    "\n",
    "late_for_walking = 0.1\n",
    "late_for_cycle = 0.05\n",
    "\n",
    "(cycle  * late_for_cycle) + (walk * late_for_walking)"
   ]
  },
  {
   "cell_type": "markdown",
   "metadata": {},
   "source": [
    "<img src=\"images/dinner.png\"/>"
   ]
  },
  {
   "cell_type": "code",
   "execution_count": 18,
   "metadata": {},
   "outputs": [
    {
     "output_type": "execute_result",
     "data": {
      "text/plain": "0.616"
     },
     "metadata": {},
     "execution_count": 18
    }
   ],
   "source": [
    "# Sharon and Lisa share an apartment. Sharon cooks dinner threenightsoutoften.If Sharon does not cook dinner, then Lisa does. If Sharon cooks dinner the probability that they have pasta is 0.75. If Lisa cooks dinner the probability that they have pasta is 0.12.\n",
    "\n",
    "# Find the probability that Lisa cooks dinner and they do not have pasta.\n",
    "sharon = 0.3\n",
    "lisa = 0.7\n",
    "\n",
    "sharon_pasta = 0.75\n",
    "lisa_pasta = 0.12\n",
    "\n",
    "(lisa * (1 - lisa_pasta))"
   ]
  },
  {
   "cell_type": "code",
   "execution_count": 19,
   "metadata": {},
   "outputs": [
    {
     "output_type": "execute_result",
     "data": {
      "text/plain": "0.691"
     },
     "metadata": {},
     "execution_count": 19
    }
   ],
   "source": [
    "# Find the probability they do not have pasta.\n",
    "\n",
    "sharon_no_pasta = (sharon * (1 - sharon_pasta))\n",
    "lisa_no_pasta = (lisa * (1 - lisa_pasta))\n",
    "sharon_no_pasta + lisa_no_pasta"
   ]
  },
  {
   "cell_type": "code",
   "execution_count": 20,
   "metadata": {},
   "outputs": [
    {
     "output_type": "execute_result",
     "data": {
      "text/plain": "0.691"
     },
     "metadata": {},
     "execution_count": 20
    }
   ],
   "source": [
    "# P(Find the probability that Lisa cooked dinner | Given that they do not have pasta)\n",
    "\n",
    "# P(H)\n",
    "p_of_no_pasta = sharon_no_pasta + lisa_no_pasta\n",
    "\n",
    "# P(E)\n",
    "p_lisa_cook = 7/10\n",
    "\n",
    "# P(H) * P(E|H)\n",
    "numerator = p_lisa_cook * p_of_no_pasta\n",
    "\n",
    "numerator / p_lisa_cook"
   ]
  },
  {
   "cell_type": "code",
   "execution_count": 21,
   "metadata": {},
   "outputs": [
    {
     "output_type": "execute_result",
     "data": {
      "text/plain": "0.375"
     },
     "metadata": {},
     "execution_count": 21
    }
   ],
   "source": [
    "letters = \"AARDVARK\"\n",
    "total = len(letters)\n",
    "\n",
    "# P(the letter chosen is a vowel | the letter falls in the first half of the alphabet)\n",
    "p_vowel = 3 / total \n",
    "\n",
    "p_first_half = (total/2) / total\n",
    "\n",
    "numerator = p_vowel * p_first_half\n",
    "numerator / p_first_half"
   ]
  },
  {
   "cell_type": "code",
   "execution_count": 22,
   "metadata": {},
   "outputs": [
    {
     "output_type": "execute_result",
     "data": {
      "text/plain": "0.5"
     },
     "metadata": {},
     "execution_count": 22
    }
   ],
   "source": [
    "# P(the letter falls in the first half of the alphabet | letter chosen is a vowel)\n",
    "p_vowel = 3 / total \n",
    "\n",
    "p_first_half = (total/2) / total\n",
    "\n",
    "numerator = p_vowel * p_first_half\n",
    "numerator / p_vowel"
   ]
  },
  {
   "cell_type": "code",
   "execution_count": 23,
   "metadata": {},
   "outputs": [
    {
     "output_type": "execute_result",
     "data": {
      "text/plain": "0.05039999999999999"
     },
     "metadata": {},
     "execution_count": 23
    }
   ],
   "source": [
    "# A softball game has an 80% chance of being canceled for a light drizzle and a 30% chance of being canceled for a heavy fog when there is no drizzle. There is a 70% chance of heavy fog and a 30% chance\n",
    "\n",
    "# a) Find the probability that the game will be canceled.\n",
    "p_drizzle = 0.3\n",
    "p_fog = 0.7\n",
    "\n",
    "p_fog_cancel = 0.3\n",
    "p_drizzle_cancel = 0.8\n",
    "\n",
    "# Cancel probability\n",
    "(p_fog * p_fog_cancel) * (p_drizzle * p_drizzle_cancel)"
   ]
  },
  {
   "cell_type": "code",
   "execution_count": 24,
   "metadata": {},
   "outputs": [
    {
     "output_type": "execute_result",
     "data": {
      "text/plain": "0.24"
     },
     "metadata": {},
     "execution_count": 24
    }
   ],
   "source": [
    "# b) Find the probability there will be a light drizzle and the game will not be canceled.\n",
    "\n",
    "p_drizzle * p_drizzle_cancel"
   ]
  },
  {
   "cell_type": "markdown",
   "metadata": {},
   "source": [
    "<img src='Images/XXX.png'/>"
   ]
  },
  {
   "cell_type": "code",
   "execution_count": 25,
   "metadata": {},
   "outputs": [
    {
     "output_type": "execute_result",
     "data": {
      "text/plain": "0.16666666666666666"
     },
     "metadata": {},
     "execution_count": 25
    }
   ],
   "source": [
    "# Given two events X and Y: Event X has probability 5/6. If event X happens, then the probability of event Y is  2/5. If event X does not happen, then the probability of event Y is 1/4.\n",
    "\n",
    "# P(not X)\n",
    "p_of_not_x = 1/6\n",
    "p_of_not_x"
   ]
  },
  {
   "cell_type": "code",
   "execution_count": 26,
   "metadata": {
    "tags": []
   },
   "outputs": [
    {
     "output_type": "execute_result",
     "data": {
      "text/plain": "0.375"
     },
     "metadata": {},
     "execution_count": 26
    }
   ],
   "source": [
    "# P(Y | (not X))\n",
    "\n",
    "p_of_y = ((5/6) * (2/5)) + ((1/6) * (1/4))\n",
    "\n",
    "numerator = p_of_y * p_of_not_x\n",
    "\n",
    "numerator / p_of_not_x"
   ]
  },
  {
   "cell_type": "code",
   "execution_count": 27,
   "metadata": {},
   "outputs": [
    {
     "output_type": "execute_result",
     "data": {
      "text/plain": "0.16666666666666666"
     },
     "metadata": {},
     "execution_count": 27
    }
   ],
   "source": [
    "# P(not X | X)\n",
    "\n",
    "p_of_not_x\n",
    "\n",
    "p_of_x = 5/6\n",
    "\n",
    "numerator = p_of_not_x * p_of_x\n",
    "\n",
    "numerator / p_of_x"
   ]
  },
  {
   "cell_type": "code",
   "execution_count": 28,
   "metadata": {},
   "outputs": [
    {
     "output_type": "execute_result",
     "data": {
      "text/plain": "0.33333333333333337"
     },
     "metadata": {},
     "execution_count": 28
    }
   ],
   "source": [
    "# P(X and Y)\n",
    "\n",
    "(5/6) * (2/5) "
   ]
  },
  {
   "cell_type": "code",
   "execution_count": 29,
   "metadata": {},
   "outputs": [
    {
     "output_type": "execute_result",
     "data": {
      "text/plain": "0.010416666666666666"
     },
     "metadata": {},
     "execution_count": 29
    }
   ],
   "source": [
    "# P(not X and not Y)\n",
    "p_of_not_y = ((5/6) * (3/5)) * ((1/6) * (3/4))\n",
    "p_of_not_x * p_of_not_y"
   ]
  },
  {
   "cell_type": "code",
   "execution_count": 30,
   "metadata": {},
   "outputs": [
    {
     "output_type": "execute_result",
     "data": {
      "text/plain": "   Gender   Sports   Hiking   Texting   Shopping   Other\n0  Female       39       48        62         71      29\n1    Male       67       58        76         54      39",
      "text/html": "<div>\n<style scoped>\n    .dataframe tbody tr th:only-of-type {\n        vertical-align: middle;\n    }\n\n    .dataframe tbody tr th {\n        vertical-align: top;\n    }\n\n    .dataframe thead th {\n        text-align: right;\n    }\n</style>\n<table border=\"1\" class=\"dataframe\">\n  <thead>\n    <tr style=\"text-align: right;\">\n      <th></th>\n      <th>Gender</th>\n      <th>Sports</th>\n      <th>Hiking</th>\n      <th>Texting</th>\n      <th>Shopping</th>\n      <th>Other</th>\n    </tr>\n  </thead>\n  <tbody>\n    <tr>\n      <th>0</th>\n      <td>Female</td>\n      <td>39</td>\n      <td>48</td>\n      <td>62</td>\n      <td>71</td>\n      <td>29</td>\n    </tr>\n    <tr>\n      <th>1</th>\n      <td>Male</td>\n      <td>67</td>\n      <td>58</td>\n      <td>76</td>\n      <td>54</td>\n      <td>39</td>\n    </tr>\n  </tbody>\n</table>\n</div>"
     },
     "metadata": {},
     "execution_count": 30
    }
   ],
   "source": [
    "leisure_df = pd.read_csv('dataset/leisure.csv')\n",
    "leisure_df"
   ]
  },
  {
   "cell_type": "code",
   "execution_count": 31,
   "metadata": {
    "tags": []
   },
   "outputs": [],
   "source": [
    "total = 543\n",
    "men = 294\n",
    "women = 299"
   ]
  },
  {
   "cell_type": "code",
   "execution_count": 50,
   "metadata": {},
   "outputs": [
    {
     "output_type": "execute_result",
     "data": {
      "text/plain": "0.19521178637200737"
     },
     "metadata": {},
     "execution_count": 50
    }
   ],
   "source": [
    "# P(female | sports)\n",
    "sports = 106\n",
    "p_of_sports = sports / total\n",
    "\n",
    "p_of_female = women / total \n",
    "\n",
    "numerator = p_of_sports * p_of_female\n",
    "\n",
    "numerator / p_of_female"
   ]
  },
  {
   "cell_type": "code",
   "execution_count": 52,
   "metadata": {},
   "outputs": [
    {
     "output_type": "execute_result",
     "data": {
      "text/plain": "0.5506445672191529"
     },
     "metadata": {},
     "execution_count": 52
    }
   ],
   "source": [
    "# P(sports | female)\n",
    "\n",
    "p_of_sports = sports / total\n",
    "\n",
    "p_of_female = women / total \n",
    "\n",
    "numerator = p_of_sports * p_of_female\n",
    "\n",
    "numerator / p_of_sports"
   ]
  },
  {
   "cell_type": "code",
   "execution_count": 53,
   "metadata": {},
   "outputs": [
    {
     "output_type": "execute_result",
     "data": {
      "text/plain": "0.2965009208103131"
     },
     "metadata": {},
     "execution_count": 53
    }
   ],
   "source": [
    "# P(reading | male)\n",
    "\n",
    "readings = 161\n",
    "p_of_reading = readings / total \n",
    "\n",
    "p_of_male = men / total \n",
    "\n",
    "numerator = p_of_reading * p_of_male\n",
    "\n",
    "numerator / p_of_male"
   ]
  },
  {
   "cell_type": "code",
   "execution_count": 54,
   "metadata": {},
   "outputs": [
    {
     "output_type": "execute_result",
     "data": {
      "text/plain": "0.5414364640883977"
     },
     "metadata": {},
     "execution_count": 54
    }
   ],
   "source": [
    "# P(male | reading)\n",
    "\n",
    "numerator / p_of_reading"
   ]
  },
  {
   "cell_type": "code",
   "execution_count": 61,
   "metadata": {
    "tags": []
   },
   "outputs": [
    {
     "output_type": "stream",
     "name": "stdout",
     "text": "0.5414364640883977\n"
    },
    {
     "output_type": "execute_result",
     "data": {
      "text/plain": "0.19521178637200737"
     },
     "metadata": {},
     "execution_count": 61
    }
   ],
   "source": [
    "# P(hiking | male)\n",
    "\n",
    "hikings  = 106\n",
    "p_of_hiking = hikings / total\n",
    "\n",
    "numerator = p_of_male * p_of_hiking\n",
    "\n",
    "numerator / p_of_male"
   ]
  },
  {
   "cell_type": "code",
   "execution_count": 60,
   "metadata": {
    "tags": []
   },
   "outputs": [
    {
     "output_type": "stream",
     "name": "stdout",
     "text": "0.5506445672191529\n"
    },
    {
     "output_type": "execute_result",
     "data": {
      "text/plain": "0.19521178637200737"
     },
     "metadata": {},
     "execution_count": 60
    }
   ],
   "source": [
    "# P(hiking | female)\n",
    "\n",
    "numerator = p_of_hiking * p_of_female\n",
    "\n",
    "numerator / p_of_female"
   ]
  },
  {
   "cell_type": "code",
   "execution_count": 63,
   "metadata": {},
   "outputs": [
    {
     "output_type": "execute_result",
     "data": {
      "text/plain": "0.5414364640883977"
     },
     "metadata": {},
     "execution_count": 63
    }
   ],
   "source": [
    "# P(male | shopping)\n",
    "\n",
    "shoppings = 139\n",
    "\n",
    "p_of_shopping = shoppings / total \n",
    "\n",
    "numerator = p_of_male * p_of_shopping\n",
    "\n",
    "numerator / p_of_shopping"
   ]
  },
  {
   "cell_type": "code",
   "execution_count": 64,
   "metadata": {},
   "outputs": [
    {
     "output_type": "execute_result",
     "data": {
      "text/plain": "0.5506445672191529"
     },
     "metadata": {},
     "execution_count": 64
    }
   ],
   "source": [
    "# P(female | shopping)\n",
    "\n",
    "numerator = p_of_female * p_of_shopping\n",
    "\n",
    "numerator / p_of_shopping"
   ]
  },
  {
   "cell_type": "code",
   "execution_count": 68,
   "metadata": {},
   "outputs": [
    {
     "output_type": "execute_result",
     "data": {
      "text/plain": "0.55"
     },
     "metadata": {},
     "execution_count": 68
    }
   ],
   "source": [
    "# The senior class is 55% female, and 32% are females who play a competitive sport. Find the probability that a student plays a competitive sport, given that the student is female.\n",
    "\n",
    "female = 0.55\n",
    "male = 0.45\n",
    "\n",
    "female_play_sports = 0.32\n",
    "female_dont_play_sports = 0.68\n",
    "\n",
    "# P(sports | female)\n",
    "\n",
    "numerator = female * female_play_sports\n",
    "numerator / female_play_sports"
   ]
  }
 ],
 "metadata": {
  "kernelspec": {
   "display_name": "Python 3.7.6 64-bit",
   "language": "python",
   "name": "python37664bitb717e909334440bbbf24cce6d1ff561e"
  },
  "language_info": {
   "codemirror_mode": {
    "name": "ipython",
    "version": 3
   },
   "file_extension": ".py",
   "mimetype": "text/x-python",
   "name": "python",
   "nbconvert_exporter": "python",
   "pygments_lexer": "ipython3",
   "version": "3.7.7-final"
  }
 },
 "nbformat": 4,
 "nbformat_minor": 4
}