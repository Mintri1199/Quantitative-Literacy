{
 "cells": [
  {
   "cell_type": "code",
   "execution_count": 12,
   "metadata": {},
   "outputs": [
    {
     "output_type": "execute_result",
     "data": {
      "text/plain": "      Level of Education  Under $20000  $20000 to $30000  Over $30000\n0  Less than high school            69                36            2\n1            High School           112                98           14\n2           Some College           102               193          143\n3           Some College            13               173          245",
      "text/html": "<div>\n<style scoped>\n    .dataframe tbody tr th:only-of-type {\n        vertical-align: middle;\n    }\n\n    .dataframe tbody tr th {\n        vertical-align: top;\n    }\n\n    .dataframe thead th {\n        text-align: right;\n    }\n</style>\n<table border=\"1\" class=\"dataframe\">\n  <thead>\n    <tr style=\"text-align: right;\">\n      <th></th>\n      <th>Level of Education</th>\n      <th>Under $20000</th>\n      <th>$20000 to $30000</th>\n      <th>Over $30000</th>\n    </tr>\n  </thead>\n  <tbody>\n    <tr>\n      <th>0</th>\n      <td>Less than high school</td>\n      <td>69</td>\n      <td>36</td>\n      <td>2</td>\n    </tr>\n    <tr>\n      <th>1</th>\n      <td>High School</td>\n      <td>112</td>\n      <td>98</td>\n      <td>14</td>\n    </tr>\n    <tr>\n      <th>2</th>\n      <td>Some College</td>\n      <td>102</td>\n      <td>193</td>\n      <td>143</td>\n    </tr>\n    <tr>\n      <th>3</th>\n      <td>Some College</td>\n      <td>13</td>\n      <td>173</td>\n      <td>245</td>\n    </tr>\n  </tbody>\n</table>\n</div>"
     },
     "metadata": {},
     "execution_count": 12
    }
   ],
   "source": [
    "import pandas as pd\n",
    "\n",
    "df = pd.read_csv('dataset/conditional_probability.csv')\n",
    "df"
   ]
  },
  {
   "cell_type": "code",
   "execution_count": 13,
   "metadata": {},
   "outputs": [
    {
     "output_type": "execute_result",
     "data": {
      "text/plain": "0.08916666666666667"
     },
     "metadata": {},
     "execution_count": 13
    }
   ],
   "source": [
    "# P(employee has less than a high school education) = The probability of a employee that had less than a high school education\n",
    "\n",
    "total_emp = 1200\n",
    "less_than_high_school_emp = 107\n",
    "\n",
    "less_than_high_school_emp / total_emp"
   ]
  },
  {
   "cell_type": "code",
   "execution_count": 14,
   "metadata": {},
   "outputs": [
    {
     "output_type": "execute_result",
     "data": {
      "text/plain": "0.24666666666666667"
     },
     "metadata": {},
     "execution_count": 14
    }
   ],
   "source": [
    "# P(employe earns under $20,000) = The probability of a employee that earn under $20,000\n",
    "\n",
    "total_under_20000 = 296\n",
    "\n",
    "total_under_20000 / total_emp"
   ]
  },
  {
   "cell_type": "code",
   "execution_count": 15,
   "metadata": {},
   "outputs": [
    {
     "output_type": "execute_result",
     "data": {
      "text/plain": "0.0016666666666666668"
     },
     "metadata": {},
     "execution_count": 15
    }
   ],
   "source": [
    "#  P(employee earns over $30,000 and has less than a high school education) = The probability of an employee that earn over $30,000 with a less than high school level education\n",
    "\n",
    "hard_worker = 2\n",
    "hard_worker / total_emp"
   ]
  },
  {
   "cell_type": "code",
   "execution_count": 16,
   "metadata": {},
   "outputs": [
    {
     "output_type": "execute_result",
     "data": {
      "text/plain": "0.09583333333333334"
     },
     "metadata": {},
     "execution_count": 16
    }
   ],
   "source": [
    "# P(employee earns under $20,000 and has a college degree) = The probability of an employee that earn under $20,000 with a college degree\n",
    "\n",
    "starving_graduates = 115\n",
    "starving_graduates / total_emp"
   ]
  },
  {
   "cell_type": "code",
   "execution_count": 17,
   "metadata": {
    "tags": []
   },
   "outputs": [
    {
     "output_type": "execute_result",
     "data": {
      "text/plain": "0.33666666666666667"
     },
     "metadata": {},
     "execution_count": 17
    }
   ],
   "source": [
    "#  P(H|E)\n",
    "#  P(employee earns over $30,000 | has only high school education) = The probability of an employee that earn over $30,000 given with a high school education \n",
    "hs_emp = 224\n",
    "emp_30000 = 404\n",
    "\n",
    "#  P(H)\n",
    "p_of_30000_emp = emp_30000 / total_emp\n",
    "\n",
    "#  P(E)\n",
    "p_of_hs_emp = hs_emp / total_emp\n",
    "\n",
    "# P(H) * P(E)\n",
    "numerator = p_of_30000_emp * p_of_hs_emp\n",
    "\n",
    "#  P(E)\n",
    "denominator = p_of_hs_emp\n",
    "\n",
    "numerator / denominator"
   ]
  },
  {
   "cell_type": "code",
   "execution_count": 18,
   "metadata": {},
   "outputs": [
    {
     "output_type": "execute_result",
     "data": {
      "text/plain": "0.33666666666666667"
     },
     "metadata": {},
     "execution_count": 18
    }
   ],
   "source": [
    "numer = p_of_30000_emp * p_of_hs_emp\n",
    "\n",
    "numer / p_of_hs_emp"
   ]
  },
  {
   "cell_type": "code",
   "execution_count": 50,
   "metadata": {},
   "outputs": [
    {
     "output_type": "error",
     "ename": "NameError",
     "evalue": "name 'p_of_emp_with_30000_and_more_hs' is not defined",
     "traceback": [
      "\u001b[0;31m---------------------------------------------------------------------------\u001b[0m",
      "\u001b[0;31mNameError\u001b[0m                                 Traceback (most recent call last)",
      "\u001b[0;32m<ipython-input-50-9c2cf2c4d27f>\u001b[0m in \u001b[0;36m<module>\u001b[0;34m\u001b[0m\n\u001b[1;32m      8\u001b[0m \u001b[0;34m\u001b[0m\u001b[0m\n\u001b[1;32m      9\u001b[0m \u001b[0;31m# P(H) * P(E)\u001b[0m\u001b[0;34m\u001b[0m\u001b[0;34m\u001b[0m\u001b[0;34m\u001b[0m\u001b[0m\n\u001b[0;32m---> 10\u001b[0;31m \u001b[0mnumerator\u001b[0m \u001b[0;34m=\u001b[0m \u001b[0mp_less_than_hs_emp\u001b[0m \u001b[0;34m*\u001b[0m \u001b[0mp_of_emp_with_30000_and_more_hs\u001b[0m\u001b[0;34m\u001b[0m\u001b[0;34m\u001b[0m\u001b[0m\n\u001b[0m\u001b[1;32m     11\u001b[0m \u001b[0;34m\u001b[0m\u001b[0m\n\u001b[1;32m     12\u001b[0m \u001b[0mnumerator\u001b[0m \u001b[0;34m/\u001b[0m \u001b[0mp_over_30000\u001b[0m\u001b[0;34m\u001b[0m\u001b[0;34m\u001b[0m\u001b[0m\n",
      "\u001b[0;31mNameError\u001b[0m: name 'p_of_emp_with_30000_and_more_hs' is not defined"
     ]
    }
   ],
   "source": [
    "# P(employee has less than high school education | earns over $30,000) = The probability of an employee with a less than high school level education given that they earn over $30,000\n",
    "\n",
    "#  P(H)\n",
    "p_less_than_hs_emp = less_than_high_school_emp / total_emp\n",
    "\n",
    "#  P(E)\n",
    "p_over_30000 = emp_30000 / total_emp\n",
    "\n",
    "# P(H) * P(E)\n",
    "numerator = p_less_than_hs_emp * p_of_emp_with_30000_and_more_hs\n",
    "\n",
    "numerator / p_over_30000"
   ]
  },
  {
   "cell_type": "code",
   "execution_count": 20,
   "metadata": {},
   "outputs": [
    {
     "output_type": "execute_result",
     "data": {
      "text/plain": "   Gender   Biology   Physics   Chemistry\n0    Male        40        16          35\n1  Female        15        24          20",
      "text/html": "<div>\n<style scoped>\n    .dataframe tbody tr th:only-of-type {\n        vertical-align: middle;\n    }\n\n    .dataframe tbody tr th {\n        vertical-align: top;\n    }\n\n    .dataframe thead th {\n        text-align: right;\n    }\n</style>\n<table border=\"1\" class=\"dataframe\">\n  <thead>\n    <tr style=\"text-align: right;\">\n      <th></th>\n      <th>Gender</th>\n      <th>Biology</th>\n      <th>Physics</th>\n      <th>Chemistry</th>\n    </tr>\n  </thead>\n  <tbody>\n    <tr>\n      <th>0</th>\n      <td>Male</td>\n      <td>40</td>\n      <td>16</td>\n      <td>35</td>\n    </tr>\n    <tr>\n      <th>1</th>\n      <td>Female</td>\n      <td>15</td>\n      <td>24</td>\n      <td>20</td>\n    </tr>\n  </tbody>\n</table>\n</div>"
     },
     "metadata": {},
     "execution_count": 20
    }
   ],
   "source": [
    "classes_df = pd.read_csv('dataset/classes.csv')\n",
    "classes_df"
   ]
  },
  {
   "cell_type": "code",
   "execution_count": 21,
   "metadata": {
    "tags": []
   },
   "outputs": [
    {
     "output_type": "execute_result",
     "data": {
      "text/plain": "0.6066666666666667"
     },
     "metadata": {},
     "execution_count": 21
    }
   ],
   "source": [
    "males = 91\n",
    "females = 59\n",
    "total = males + females\n",
    "# P(males) = probability of a new student being male\n",
    "males / total"
   ]
  },
  {
   "cell_type": "code",
   "execution_count": 22,
   "metadata": {},
   "outputs": [
    {
     "output_type": "execute_result",
     "data": {
      "text/plain": "0.9733333333333334"
     },
     "metadata": {},
     "execution_count": 22
    }
   ],
   "source": [
    "# P(males or Chemistry) = probability of a new student being male or major in Chemistry\n",
    "\n",
    "p_males = males / total\n",
    "p_chemisty = 55 / total\n",
    "\n",
    "p_males + p_chemisty"
   ]
  },
  {
   "cell_type": "code",
   "execution_count": 23,
   "metadata": {
    "tags": []
   },
   "outputs": [
    {
     "output_type": "error",
     "ename": "NameError",
     "evalue": "name 'p_male_with_physics' is not defined",
     "traceback": [
      "\u001b[0;31m---------------------------------------------------------------------------\u001b[0m",
      "\u001b[0;31mNameError\u001b[0m                                 Traceback (most recent call last)",
      "\u001b[0;32m<ipython-input-23-87e9b02b38f5>\u001b[0m in \u001b[0;36m<module>\u001b[0;34m\u001b[0m\n\u001b[1;32m      8\u001b[0m \u001b[0;34m\u001b[0m\u001b[0m\n\u001b[1;32m      9\u001b[0m \u001b[0;31m# P(H) * P(E)\u001b[0m\u001b[0;34m\u001b[0m\u001b[0;34m\u001b[0m\u001b[0;34m\u001b[0m\u001b[0m\n\u001b[0;32m---> 10\u001b[0;31m \u001b[0mnumerator\u001b[0m \u001b[0;34m=\u001b[0m \u001b[0mp_physics\u001b[0m \u001b[0;34m*\u001b[0m \u001b[0mp_male_with_physics\u001b[0m\u001b[0;34m\u001b[0m\u001b[0;34m\u001b[0m\u001b[0m\n\u001b[0m\u001b[1;32m     11\u001b[0m \u001b[0;34m\u001b[0m\u001b[0m\n\u001b[1;32m     12\u001b[0m \u001b[0mnumerator\u001b[0m \u001b[0;34m/\u001b[0m \u001b[0mp_males\u001b[0m\u001b[0;34m\u001b[0m\u001b[0;34m\u001b[0m\u001b[0m\n",
      "\u001b[0;31mNameError\u001b[0m: name 'p_male_with_physics' is not defined"
     ]
    }
   ],
   "source": [
    "# P(majors in Physics | male) = probability of a new student majoring in Physics given the chance that they are male\n",
    "\n",
    "#  P(H) probability of majoring in Physics\n",
    "p_physics = 40 / 150\n",
    "\n",
    "#  P(E) probability of male\n",
    "p_males\n",
    "\n",
    "# P(H) * P(E)\n",
    "numerator = p_physics * p_male_with_physics\n",
    "\n",
    "numerator / p_males"
   ]
  },
  {
   "cell_type": "code",
   "execution_count": 24,
   "metadata": {},
   "outputs": [
    {
     "output_type": "execute_result",
     "data": {
      "text/plain": "1.0"
     },
     "metadata": {},
     "execution_count": 24
    }
   ],
   "source": [
    "arr = [5, 6, 7, 8, 9, 10, 11, 12, 13, 14]\n",
    "size = len(arr)\n",
    "# P(integer) probability of being an interger\n",
    "size / size "
   ]
  },
  {
   "cell_type": "code",
   "execution_count": 25,
   "metadata": {},
   "outputs": [
    {
     "output_type": "error",
     "ename": "NameError",
     "evalue": "name 'p_less_than_13_if_less_than_10' is not defined",
     "traceback": [
      "\u001b[0;31m---------------------------------------------------------------------------\u001b[0m",
      "\u001b[0;31mNameError\u001b[0m                                 Traceback (most recent call last)",
      "\u001b[0;32m<ipython-input-25-66a0735c637e>\u001b[0m in \u001b[0;36m<module>\u001b[0;34m\u001b[0m\n\u001b[1;32m     11\u001b[0m \u001b[0;34m\u001b[0m\u001b[0m\n\u001b[1;32m     12\u001b[0m \u001b[0;31m# P(H) * P(E)\u001b[0m\u001b[0;34m\u001b[0m\u001b[0;34m\u001b[0m\u001b[0;34m\u001b[0m\u001b[0m\n\u001b[0;32m---> 13\u001b[0;31m \u001b[0mnumerator\u001b[0m \u001b[0;34m=\u001b[0m \u001b[0mp_less_than_10\u001b[0m \u001b[0;34m*\u001b[0m \u001b[0mp_less_than_13_if_less_than_10\u001b[0m\u001b[0;34m\u001b[0m\u001b[0;34m\u001b[0m\u001b[0m\n\u001b[0m\u001b[1;32m     14\u001b[0m \u001b[0;34m\u001b[0m\u001b[0m\n\u001b[1;32m     15\u001b[0m \u001b[0mnumerator\u001b[0m \u001b[0;34m/\u001b[0m \u001b[0mp_less_than_13\u001b[0m\u001b[0;34m\u001b[0m\u001b[0;34m\u001b[0m\u001b[0m\n",
      "\u001b[0;31mNameError\u001b[0m: name 'p_less_than_13_if_less_than_10' is not defined"
     ]
    }
   ],
   "source": [
    "# P(P(less than 10 | less than 13) probability of the number beiing less than 10 given chance of being randomly picked that is less than 13\n",
    "\n",
    "num_less_than_13 = size - 2\n",
    "\n",
    "# P(H) probability of number less than 10\n",
    "less_than_10 = len([x for x in arr if x < 10])\n",
    "p_less_than_10 = less_than_10 / size\n",
    "\n",
    "# P(E) probability of number is less than 13\n",
    "p_less_than_13 = num_less_than_13 / size\n",
    "\n",
    "# P(H) * P(E)\n",
    "numerator = p_less_than_10 * p_less_than_13_if_less_than_10\n",
    "\n",
    "numerator / p_less_than_13"
   ]
  },
  {
   "cell_type": "code",
   "execution_count": 26,
   "metadata": {},
   "outputs": [
    {
     "output_type": "error",
     "ename": "NameError",
     "evalue": "name 'p_less_than_11_if_more_than_8' is not defined",
     "traceback": [
      "\u001b[0;31m---------------------------------------------------------------------------\u001b[0m",
      "\u001b[0;31mNameError\u001b[0m                                 Traceback (most recent call last)",
      "\u001b[0;32m<ipython-input-26-3eaa495429b6>\u001b[0m in \u001b[0;36m<module>\u001b[0;34m\u001b[0m\n\u001b[1;32m     11\u001b[0m \u001b[0;34m\u001b[0m\u001b[0m\n\u001b[1;32m     12\u001b[0m \u001b[0;31m# P(H) * P(E|H)\u001b[0m\u001b[0;34m\u001b[0m\u001b[0;34m\u001b[0m\u001b[0;34m\u001b[0m\u001b[0m\n\u001b[0;32m---> 13\u001b[0;31m \u001b[0mnumerator\u001b[0m \u001b[0;34m=\u001b[0m \u001b[0mp_more_than_8\u001b[0m \u001b[0;34m*\u001b[0m \u001b[0mp_less_than_11_if_more_than_8\u001b[0m\u001b[0;34m\u001b[0m\u001b[0;34m\u001b[0m\u001b[0m\n\u001b[0m\u001b[1;32m     14\u001b[0m \u001b[0;34m\u001b[0m\u001b[0m\n\u001b[1;32m     15\u001b[0m \u001b[0mnumerator\u001b[0m \u001b[0;34m/\u001b[0m \u001b[0mp_less_than_11\u001b[0m\u001b[0;34m\u001b[0m\u001b[0;34m\u001b[0m\u001b[0m\n",
      "\u001b[0;31mNameError\u001b[0m: name 'p_less_than_11_if_more_than_8' is not defined"
     ]
    }
   ],
   "source": [
    "# P(greater than 8 | less than 11) probability of the number being greater than 8 given chance of being randomly picked that is less than 11\n",
    "\n",
    "num_less_than_11 = size - 4\n",
    "\n",
    "# P(H) probability of number greater than 8\n",
    "more_than_8 = len([x for x in arr if x > 8])\n",
    "p_more_than_8 = more_than_8 / size\n",
    "\n",
    "# P(E) probability of number is less than 11\n",
    "p_less_than_11 = num_less_than_11 / size\n",
    "\n",
    "# P(H) * P(E|H)\n",
    "numerator = p_more_than_8 * p_less_than_11_if_more_than_8\n",
    "\n",
    "numerator / p_less_than_11"
   ]
  },
  {
   "cell_type": "code",
   "execution_count": 27,
   "metadata": {},
   "outputs": [
    {
     "output_type": "error",
     "ename": "NameError",
     "evalue": "name 'p_more_than_12_if_more_than_7' is not defined",
     "traceback": [
      "\u001b[0;31m---------------------------------------------------------------------------\u001b[0m",
      "\u001b[0;31mNameError\u001b[0m                                 Traceback (most recent call last)",
      "\u001b[0;32m<ipython-input-27-e877757e490a>\u001b[0m in \u001b[0;36m<module>\u001b[0;34m\u001b[0m\n\u001b[1;32m     11\u001b[0m \u001b[0;34m\u001b[0m\u001b[0m\n\u001b[1;32m     12\u001b[0m \u001b[0;31m# P(H) * P(E|H)\u001b[0m\u001b[0;34m\u001b[0m\u001b[0;34m\u001b[0m\u001b[0;34m\u001b[0m\u001b[0m\n\u001b[0;32m---> 13\u001b[0;31m \u001b[0mnumerator\u001b[0m \u001b[0;34m=\u001b[0m \u001b[0mp_more_than_7\u001b[0m \u001b[0;34m*\u001b[0m \u001b[0mp_more_than_12_if_more_than_7\u001b[0m\u001b[0;34m\u001b[0m\u001b[0;34m\u001b[0m\u001b[0m\n\u001b[0m\u001b[1;32m     14\u001b[0m \u001b[0;34m\u001b[0m\u001b[0m\n\u001b[1;32m     15\u001b[0m \u001b[0mnumerator\u001b[0m \u001b[0;34m/\u001b[0m \u001b[0mp_more_than_12\u001b[0m\u001b[0;34m\u001b[0m\u001b[0;34m\u001b[0m\u001b[0m\n",
      "\u001b[0;31mNameError\u001b[0m: name 'p_more_than_12_if_more_than_7' is not defined"
     ]
    }
   ],
   "source": [
    "# P(greater than 7 | greater than 12) probability of the number being greater than 7 given chance of being randomly picked that is greater than 12\n",
    "\n",
    "num_more_than_12 = size - 3\n",
    "\n",
    "# P(H) probability of number greater than 7\n",
    "more_than_7 = len([x for x in arr if x > 7])\n",
    "p_more_than_7 = more_than_7 / size\n",
    "\n",
    "# P(E) probability of number is more than 12\n",
    "p_more_than_12 = num_more_than_12 / size\n",
    "\n",
    "# P(H) * P(E|H)\n",
    "numerator = p_more_than_7 * p_more_than_12_if_more_than_7\n",
    "\n",
    "numerator / p_more_than_12"
   ]
  },
  {
   "cell_type": "markdown",
   "metadata": {},
   "source": [
    "<img src=\"images/walk_cycle.png\"/>"
   ]
  },
  {
   "cell_type": "code",
   "execution_count": 28,
   "metadata": {},
   "outputs": [
    {
     "output_type": "execute_result",
     "data": {
      "text/plain": "0.0625"
     },
     "metadata": {},
     "execution_count": 28
    }
   ],
   "source": [
    "# Maria travels to school either by walking or by bicycle. The probability she cycles to school is 0.75. If she walks the probability that she is late for school is 0.1 and if she cycles, the probability that she is late for school is 0.05.\n",
    "\n",
    "# Find the probability that Maria is late for school.\n",
    "\n",
    "walk = 0.25\n",
    "cycle = 0.75\n",
    "\n",
    "late_for_walking = 0.1\n",
    "late_for_cycle = 0.05\n",
    "\n",
    "(cycle  * late_for_cycle) + (walk * late_for_walking)"
   ]
  },
  {
   "cell_type": "markdown",
   "metadata": {},
   "source": [
    "<img src=\"images/dinner.png\"/>"
   ]
  },
  {
   "cell_type": "code",
   "execution_count": 29,
   "metadata": {},
   "outputs": [
    {
     "output_type": "execute_result",
     "data": {
      "text/plain": "0.616"
     },
     "metadata": {},
     "execution_count": 29
    }
   ],
   "source": [
    "# Sharon and Lisa share an apartment. Sharon cooks dinner threenightsoutoften.If Sharon does not cook dinner, then Lisa does. If Sharon cooks dinner the probability that they have pasta is 0.75. If Lisa cooks dinner the probability that they have pasta is 0.12.\n",
    "\n",
    "# Find the probability that Lisa cooks dinner and they do not have pasta.\n",
    "sharon = 0.3\n",
    "lisa = 0.7\n",
    "\n",
    "sharon_pasta = 0.75\n",
    "lisa_pasta = 0.12\n",
    "\n",
    "(lisa * (1 - lisa_pasta))"
   ]
  },
  {
   "cell_type": "code",
   "execution_count": 30,
   "metadata": {},
   "outputs": [
    {
     "output_type": "execute_result",
     "data": {
      "text/plain": "0.691"
     },
     "metadata": {},
     "execution_count": 30
    }
   ],
   "source": [
    "# Find the probability they do not have pasta.\n",
    "\n",
    "sharon_no_pasta = (sharon * (1 - sharon_pasta))\n",
    "lisa_no_pasta = (lisa * (1 - lisa_pasta))\n",
    "sharon_no_pasta + lisa_no_pasta"
   ]
  },
  {
   "cell_type": "code",
   "execution_count": 31,
   "metadata": {},
   "outputs": [
    {
     "output_type": "execute_result",
     "data": {
      "text/plain": "0.691"
     },
     "metadata": {},
     "execution_count": 31
    }
   ],
   "source": [
    "# P(Find the probability that Lisa cooked dinner | Given that they do not have pasta)\n",
    "\n",
    "# P(H)\n",
    "p_of_no_pasta = sharon_no_pasta + lisa_no_pasta\n",
    "\n",
    "# P(E)\n",
    "p_lisa_cook = 7/10\n",
    "\n",
    "# P(H) * P(E|H)\n",
    "numerator = p_lisa_cook * p_of_no_pasta\n",
    "\n",
    "numerator / p_lisa_cook"
   ]
  },
  {
   "cell_type": "code",
   "execution_count": 32,
   "metadata": {},
   "outputs": [
    {
     "output_type": "execute_result",
     "data": {
      "text/plain": "0.375"
     },
     "metadata": {},
     "execution_count": 32
    }
   ],
   "source": [
    "letters = \"AARDVARK\"\n",
    "total = len(letters)\n",
    "\n",
    "# P(the letter chosen is a vowel | the letter falls in the first half of the alphabet)\n",
    "p_vowel = 3 / total \n",
    "\n",
    "p_first_half = (total/2) / total\n",
    "\n",
    "numerator = p_vowel * p_first_half\n",
    "numerator / p_first_half"
   ]
  },
  {
   "cell_type": "code",
   "execution_count": 33,
   "metadata": {},
   "outputs": [
    {
     "output_type": "execute_result",
     "data": {
      "text/plain": "0.5"
     },
     "metadata": {},
     "execution_count": 33
    }
   ],
   "source": [
    "# P(the letter falls in the first half of the alphabet | letter chosen is a vowel)\n",
    "p_vowel = 3 / total \n",
    "\n",
    "p_first_half = (total/2) / total\n",
    "\n",
    "numerator = p_vowel * p_first_half\n",
    "numerator / p_vowel"
   ]
  },
  {
   "cell_type": "code",
   "execution_count": 34,
   "metadata": {},
   "outputs": [
    {
     "output_type": "execute_result",
     "data": {
      "text/plain": "0.05039999999999999"
     },
     "metadata": {},
     "execution_count": 34
    }
   ],
   "source": [
    "# A softball game has an 80% chance of being canceled for a light drizzle and a 30% chance of being canceled for a heavy fog when there is no drizzle. There is a 70% chance of heavy fog and a 30% chance\n",
    "\n",
    "# a) Find the probability that the game will be canceled.\n",
    "p_drizzle = 0.3\n",
    "p_fog = 0.7\n",
    "\n",
    "p_fog_cancel = 0.3\n",
    "p_drizzle_cancel = 0.8\n",
    "\n",
    "# Cancel probability\n",
    "(p_fog * p_fog_cancel) * (p_drizzle * p_drizzle_cancel)"
   ]
  },
  {
   "cell_type": "code",
   "execution_count": 35,
   "metadata": {},
   "outputs": [
    {
     "output_type": "execute_result",
     "data": {
      "text/plain": "0.24"
     },
     "metadata": {},
     "execution_count": 35
    }
   ],
   "source": [
    "# b) Find the probability there will be a light drizzle and the game will not be canceled.\n",
    "\n",
    "p_drizzle * p_drizzle_cancel"
   ]
  },
  {
   "cell_type": "markdown",
   "metadata": {},
   "source": [
    "<img src='Images/XXX.png'/>"
   ]
  },
  {
   "cell_type": "code",
   "execution_count": 36,
   "metadata": {},
   "outputs": [
    {
     "output_type": "execute_result",
     "data": {
      "text/plain": "0.16666666666666666"
     },
     "metadata": {},
     "execution_count": 36
    }
   ],
   "source": [
    "# Given two events X and Y: Event X has probability 5/6. If event X happens, then the probability of event Y is  2/5. If event X does not happen, then the probability of event Y is 1/4.\n",
    "\n",
    "# P(not X)\n",
    "p_of_not_x = 1/6\n",
    "p_of_not_x"
   ]
  },
  {
   "cell_type": "code",
   "execution_count": 37,
   "metadata": {
    "tags": []
   },
   "outputs": [
    {
     "output_type": "execute_result",
     "data": {
      "text/plain": "0.375"
     },
     "metadata": {},
     "execution_count": 37
    }
   ],
   "source": [
    "# P(Y | (not X))\n",
    "\n",
    "p_of_y = ((5/6) * (2/5)) + ((1/6) * (1/4))\n",
    "\n",
    "numerator = p_of_y * p_of_not_x\n",
    "\n",
    "numerator / p_of_not_x"
   ]
  },
  {
   "cell_type": "code",
   "execution_count": 38,
   "metadata": {},
   "outputs": [
    {
     "output_type": "execute_result",
     "data": {
      "text/plain": "0.16666666666666666"
     },
     "metadata": {},
     "execution_count": 38
    }
   ],
   "source": [
    "# P(not X | X)\n",
    "\n",
    "p_of_not_x\n",
    "\n",
    "p_of_x = 5/6\n",
    "\n",
    "numerator = p_of_not_x * p_of_x\n",
    "\n",
    "numerator / p_of_x"
   ]
  },
  {
   "cell_type": "code",
   "execution_count": 39,
   "metadata": {},
   "outputs": [
    {
     "output_type": "execute_result",
     "data": {
      "text/plain": "0.33333333333333337"
     },
     "metadata": {},
     "execution_count": 39
    }
   ],
   "source": [
    "# P(X and Y)\n",
    "\n",
    "(5/6) * (2/5) "
   ]
  },
  {
   "cell_type": "code",
   "execution_count": 40,
   "metadata": {},
   "outputs": [
    {
     "output_type": "execute_result",
     "data": {
      "text/plain": "0.010416666666666666"
     },
     "metadata": {},
     "execution_count": 40
    }
   ],
   "source": [
    "# P(not X and not Y)\n",
    "p_of_not_y = ((5/6) * (3/5)) * ((1/6) * (3/4))\n",
    "p_of_not_x * p_of_not_y"
   ]
  },
  {
   "cell_type": "code",
   "execution_count": 41,
   "metadata": {},
   "outputs": [
    {
     "output_type": "execute_result",
     "data": {
      "text/plain": "   Gender   Sports   Hiking   Texting   Shopping   Other\n0  Female       39       48        62         71      29\n1    Male       67       58        76         54      39",
      "text/html": "<div>\n<style scoped>\n    .dataframe tbody tr th:only-of-type {\n        vertical-align: middle;\n    }\n\n    .dataframe tbody tr th {\n        vertical-align: top;\n    }\n\n    .dataframe thead th {\n        text-align: right;\n    }\n</style>\n<table border=\"1\" class=\"dataframe\">\n  <thead>\n    <tr style=\"text-align: right;\">\n      <th></th>\n      <th>Gender</th>\n      <th>Sports</th>\n      <th>Hiking</th>\n      <th>Texting</th>\n      <th>Shopping</th>\n      <th>Other</th>\n    </tr>\n  </thead>\n  <tbody>\n    <tr>\n      <th>0</th>\n      <td>Female</td>\n      <td>39</td>\n      <td>48</td>\n      <td>62</td>\n      <td>71</td>\n      <td>29</td>\n    </tr>\n    <tr>\n      <th>1</th>\n      <td>Male</td>\n      <td>67</td>\n      <td>58</td>\n      <td>76</td>\n      <td>54</td>\n      <td>39</td>\n    </tr>\n  </tbody>\n</table>\n</div>"
     },
     "metadata": {},
     "execution_count": 41
    }
   ],
   "source": [
    "leisure_df = pd.read_csv('dataset/leisure.csv')\n",
    "leisure_df"
   ]
  },
  {
   "cell_type": "code",
   "execution_count": 42,
   "metadata": {
    "tags": []
   },
   "outputs": [],
   "source": [
    "total = 543\n",
    "men = 294\n",
    "women = 299"
   ]
  },
  {
   "cell_type": "code",
   "execution_count": 43,
   "metadata": {},
   "outputs": [
    {
     "output_type": "error",
     "ename": "KeyError",
     "evalue": "'Sports'",
     "traceback": [
      "\u001b[0;31m---------------------------------------------------------------------------\u001b[0m",
      "\u001b[0;31mKeyError\u001b[0m                                  Traceback (most recent call last)",
      "\u001b[0;32m/usr/local/lib/python3.7/site-packages/pandas/core/indexes/base.py\u001b[0m in \u001b[0;36mget_loc\u001b[0;34m(self, key, method, tolerance)\u001b[0m\n\u001b[1;32m   2645\u001b[0m             \u001b[0;32mtry\u001b[0m\u001b[0;34m:\u001b[0m\u001b[0;34m\u001b[0m\u001b[0;34m\u001b[0m\u001b[0m\n\u001b[0;32m-> 2646\u001b[0;31m                 \u001b[0;32mreturn\u001b[0m \u001b[0mself\u001b[0m\u001b[0;34m.\u001b[0m\u001b[0m_engine\u001b[0m\u001b[0;34m.\u001b[0m\u001b[0mget_loc\u001b[0m\u001b[0;34m(\u001b[0m\u001b[0mkey\u001b[0m\u001b[0;34m)\u001b[0m\u001b[0;34m\u001b[0m\u001b[0;34m\u001b[0m\u001b[0m\n\u001b[0m\u001b[1;32m   2647\u001b[0m             \u001b[0;32mexcept\u001b[0m \u001b[0mKeyError\u001b[0m\u001b[0;34m:\u001b[0m\u001b[0;34m\u001b[0m\u001b[0;34m\u001b[0m\u001b[0m\n",
      "\u001b[0;32mpandas/_libs/index.pyx\u001b[0m in \u001b[0;36mpandas._libs.index.IndexEngine.get_loc\u001b[0;34m()\u001b[0m\n",
      "\u001b[0;32mpandas/_libs/index.pyx\u001b[0m in \u001b[0;36mpandas._libs.index.IndexEngine.get_loc\u001b[0;34m()\u001b[0m\n",
      "\u001b[0;32mpandas/_libs/hashtable_class_helper.pxi\u001b[0m in \u001b[0;36mpandas._libs.hashtable.PyObjectHashTable.get_item\u001b[0;34m()\u001b[0m\n",
      "\u001b[0;32mpandas/_libs/hashtable_class_helper.pxi\u001b[0m in \u001b[0;36mpandas._libs.hashtable.PyObjectHashTable.get_item\u001b[0;34m()\u001b[0m\n",
      "\u001b[0;31mKeyError\u001b[0m: 'Sports'",
      "\nDuring handling of the above exception, another exception occurred:\n",
      "\u001b[0;31mKeyError\u001b[0m                                  Traceback (most recent call last)",
      "\u001b[0;32m<ipython-input-43-de825b1ff11f>\u001b[0m in \u001b[0;36m<module>\u001b[0;34m\u001b[0m\n\u001b[1;32m      1\u001b[0m \u001b[0;31m# P(female | sports)\u001b[0m\u001b[0;34m\u001b[0m\u001b[0;34m\u001b[0m\u001b[0;34m\u001b[0m\u001b[0m\n\u001b[0;32m----> 2\u001b[0;31m \u001b[0msports\u001b[0m \u001b[0;34m=\u001b[0m \u001b[0mleisure_df\u001b[0m\u001b[0;34m[\u001b[0m\u001b[0;34m'Sports'\u001b[0m\u001b[0;34m]\u001b[0m\u001b[0;34m.\u001b[0m\u001b[0mvalues\u001b[0m\u001b[0;34m(\u001b[0m\u001b[0;34m)\u001b[0m\u001b[0;34m\u001b[0m\u001b[0;34m\u001b[0m\u001b[0m\n\u001b[0m\u001b[1;32m      3\u001b[0m \u001b[0msports\u001b[0m\u001b[0;34m\u001b[0m\u001b[0;34m\u001b[0m\u001b[0m\n",
      "\u001b[0;32m/usr/local/lib/python3.7/site-packages/pandas/core/frame.py\u001b[0m in \u001b[0;36m__getitem__\u001b[0;34m(self, key)\u001b[0m\n\u001b[1;32m   2798\u001b[0m             \u001b[0;32mif\u001b[0m \u001b[0mself\u001b[0m\u001b[0;34m.\u001b[0m\u001b[0mcolumns\u001b[0m\u001b[0;34m.\u001b[0m\u001b[0mnlevels\u001b[0m \u001b[0;34m>\u001b[0m \u001b[0;36m1\u001b[0m\u001b[0;34m:\u001b[0m\u001b[0;34m\u001b[0m\u001b[0;34m\u001b[0m\u001b[0m\n\u001b[1;32m   2799\u001b[0m                 \u001b[0;32mreturn\u001b[0m \u001b[0mself\u001b[0m\u001b[0;34m.\u001b[0m\u001b[0m_getitem_multilevel\u001b[0m\u001b[0;34m(\u001b[0m\u001b[0mkey\u001b[0m\u001b[0;34m)\u001b[0m\u001b[0;34m\u001b[0m\u001b[0;34m\u001b[0m\u001b[0m\n\u001b[0;32m-> 2800\u001b[0;31m             \u001b[0mindexer\u001b[0m \u001b[0;34m=\u001b[0m \u001b[0mself\u001b[0m\u001b[0;34m.\u001b[0m\u001b[0mcolumns\u001b[0m\u001b[0;34m.\u001b[0m\u001b[0mget_loc\u001b[0m\u001b[0;34m(\u001b[0m\u001b[0mkey\u001b[0m\u001b[0;34m)\u001b[0m\u001b[0;34m\u001b[0m\u001b[0;34m\u001b[0m\u001b[0m\n\u001b[0m\u001b[1;32m   2801\u001b[0m             \u001b[0;32mif\u001b[0m \u001b[0mis_integer\u001b[0m\u001b[0;34m(\u001b[0m\u001b[0mindexer\u001b[0m\u001b[0;34m)\u001b[0m\u001b[0;34m:\u001b[0m\u001b[0;34m\u001b[0m\u001b[0;34m\u001b[0m\u001b[0m\n\u001b[1;32m   2802\u001b[0m                 \u001b[0mindexer\u001b[0m \u001b[0;34m=\u001b[0m \u001b[0;34m[\u001b[0m\u001b[0mindexer\u001b[0m\u001b[0;34m]\u001b[0m\u001b[0;34m\u001b[0m\u001b[0;34m\u001b[0m\u001b[0m\n",
      "\u001b[0;32m/usr/local/lib/python3.7/site-packages/pandas/core/indexes/base.py\u001b[0m in \u001b[0;36mget_loc\u001b[0;34m(self, key, method, tolerance)\u001b[0m\n\u001b[1;32m   2646\u001b[0m                 \u001b[0;32mreturn\u001b[0m \u001b[0mself\u001b[0m\u001b[0;34m.\u001b[0m\u001b[0m_engine\u001b[0m\u001b[0;34m.\u001b[0m\u001b[0mget_loc\u001b[0m\u001b[0;34m(\u001b[0m\u001b[0mkey\u001b[0m\u001b[0;34m)\u001b[0m\u001b[0;34m\u001b[0m\u001b[0;34m\u001b[0m\u001b[0m\n\u001b[1;32m   2647\u001b[0m             \u001b[0;32mexcept\u001b[0m \u001b[0mKeyError\u001b[0m\u001b[0;34m:\u001b[0m\u001b[0;34m\u001b[0m\u001b[0;34m\u001b[0m\u001b[0m\n\u001b[0;32m-> 2648\u001b[0;31m                 \u001b[0;32mreturn\u001b[0m \u001b[0mself\u001b[0m\u001b[0;34m.\u001b[0m\u001b[0m_engine\u001b[0m\u001b[0;34m.\u001b[0m\u001b[0mget_loc\u001b[0m\u001b[0;34m(\u001b[0m\u001b[0mself\u001b[0m\u001b[0;34m.\u001b[0m\u001b[0m_maybe_cast_indexer\u001b[0m\u001b[0;34m(\u001b[0m\u001b[0mkey\u001b[0m\u001b[0;34m)\u001b[0m\u001b[0;34m)\u001b[0m\u001b[0;34m\u001b[0m\u001b[0;34m\u001b[0m\u001b[0m\n\u001b[0m\u001b[1;32m   2649\u001b[0m         \u001b[0mindexer\u001b[0m \u001b[0;34m=\u001b[0m \u001b[0mself\u001b[0m\u001b[0;34m.\u001b[0m\u001b[0mget_indexer\u001b[0m\u001b[0;34m(\u001b[0m\u001b[0;34m[\u001b[0m\u001b[0mkey\u001b[0m\u001b[0;34m]\u001b[0m\u001b[0;34m,\u001b[0m \u001b[0mmethod\u001b[0m\u001b[0;34m=\u001b[0m\u001b[0mmethod\u001b[0m\u001b[0;34m,\u001b[0m \u001b[0mtolerance\u001b[0m\u001b[0;34m=\u001b[0m\u001b[0mtolerance\u001b[0m\u001b[0;34m)\u001b[0m\u001b[0;34m\u001b[0m\u001b[0;34m\u001b[0m\u001b[0m\n\u001b[1;32m   2650\u001b[0m         \u001b[0;32mif\u001b[0m \u001b[0mindexer\u001b[0m\u001b[0;34m.\u001b[0m\u001b[0mndim\u001b[0m \u001b[0;34m>\u001b[0m \u001b[0;36m1\u001b[0m \u001b[0;32mor\u001b[0m \u001b[0mindexer\u001b[0m\u001b[0;34m.\u001b[0m\u001b[0msize\u001b[0m \u001b[0;34m>\u001b[0m \u001b[0;36m1\u001b[0m\u001b[0;34m:\u001b[0m\u001b[0;34m\u001b[0m\u001b[0;34m\u001b[0m\u001b[0m\n",
      "\u001b[0;32mpandas/_libs/index.pyx\u001b[0m in \u001b[0;36mpandas._libs.index.IndexEngine.get_loc\u001b[0;34m()\u001b[0m\n",
      "\u001b[0;32mpandas/_libs/index.pyx\u001b[0m in \u001b[0;36mpandas._libs.index.IndexEngine.get_loc\u001b[0;34m()\u001b[0m\n",
      "\u001b[0;32mpandas/_libs/hashtable_class_helper.pxi\u001b[0m in \u001b[0;36mpandas._libs.hashtable.PyObjectHashTable.get_item\u001b[0;34m()\u001b[0m\n",
      "\u001b[0;32mpandas/_libs/hashtable_class_helper.pxi\u001b[0m in \u001b[0;36mpandas._libs.hashtable.PyObjectHashTable.get_item\u001b[0;34m()\u001b[0m\n",
      "\u001b[0;31mKeyError\u001b[0m: 'Sports'"
     ]
    }
   ],
   "source": [
    "# P(female | sports)\n",
    "sports = leisure_df['Sports'].values()\n",
    "sports"
   ]
  },
  {
   "cell_type": "code",
   "execution_count": 44,
   "metadata": {},
   "outputs": [],
   "source": [
    "# P(reading | male)"
   ]
  },
  {
   "cell_type": "code",
   "execution_count": 45,
   "metadata": {},
   "outputs": [],
   "source": [
    "# P(male | reading)"
   ]
  },
  {
   "cell_type": "code",
   "execution_count": 46,
   "metadata": {},
   "outputs": [],
   "source": [
    "# P(hiking | male)"
   ]
  },
  {
   "cell_type": "code",
   "execution_count": 47,
   "metadata": {},
   "outputs": [],
   "source": [
    "# P(hiking | female)"
   ]
  },
  {
   "cell_type": "code",
   "execution_count": 48,
   "metadata": {},
   "outputs": [],
   "source": [
    "# P(male | shopping)"
   ]
  },
  {
   "cell_type": "code",
   "execution_count": 49,
   "metadata": {},
   "outputs": [],
   "source": [
    "# P(female | shopping)"
   ]
  }
 ],
 "metadata": {
  "kernelspec": {
   "display_name": "Python 3.7.6 64-bit",
   "language": "python",
   "name": "python37664bitb717e909334440bbbf24cce6d1ff561e"
  },
  "language_info": {
   "codemirror_mode": {
    "name": "ipython",
    "version": 3
   },
   "file_extension": ".py",
   "mimetype": "text/x-python",
   "name": "python",
   "nbconvert_exporter": "python",
   "pygments_lexer": "ipython3",
   "version": "3.7.7-final"
  }
 },
 "nbformat": 4,
 "nbformat_minor": 4
}