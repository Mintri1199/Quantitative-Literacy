{
 "cells": [
  {
   "cell_type": "code",
   "execution_count": 1,
   "metadata": {},
   "outputs": [
    {
     "data": {
      "text/html": [
       "<div>\n",
       "<style scoped>\n",
       "    .dataframe tbody tr th:only-of-type {\n",
       "        vertical-align: middle;\n",
       "    }\n",
       "\n",
       "    .dataframe tbody tr th {\n",
       "        vertical-align: top;\n",
       "    }\n",
       "\n",
       "    .dataframe thead th {\n",
       "        text-align: right;\n",
       "    }\n",
       "</style>\n",
       "<table border=\"1\" class=\"dataframe\">\n",
       "  <thead>\n",
       "    <tr style=\"text-align: right;\">\n",
       "      <th></th>\n",
       "      <th>Level of Education</th>\n",
       "      <th>Under $20000</th>\n",
       "      <th>$20000 to $30000</th>\n",
       "      <th>Over $30000</th>\n",
       "    </tr>\n",
       "  </thead>\n",
       "  <tbody>\n",
       "    <tr>\n",
       "      <th>0</th>\n",
       "      <td>Less than high school</td>\n",
       "      <td>69</td>\n",
       "      <td>36</td>\n",
       "      <td>2</td>\n",
       "    </tr>\n",
       "    <tr>\n",
       "      <th>1</th>\n",
       "      <td>High School</td>\n",
       "      <td>112</td>\n",
       "      <td>98</td>\n",
       "      <td>14</td>\n",
       "    </tr>\n",
       "    <tr>\n",
       "      <th>2</th>\n",
       "      <td>Some College</td>\n",
       "      <td>102</td>\n",
       "      <td>193</td>\n",
       "      <td>143</td>\n",
       "    </tr>\n",
       "    <tr>\n",
       "      <th>3</th>\n",
       "      <td>Some College</td>\n",
       "      <td>13</td>\n",
       "      <td>173</td>\n",
       "      <td>245</td>\n",
       "    </tr>\n",
       "  </tbody>\n",
       "</table>\n",
       "</div>"
      ],
      "text/plain": [
       "      Level of Education  Under $20000  $20000 to $30000  Over $30000\n",
       "0  Less than high school            69                36            2\n",
       "1            High School           112                98           14\n",
       "2           Some College           102               193          143\n",
       "3           Some College            13               173          245"
      ]
     },
     "execution_count": 1,
     "metadata": {},
     "output_type": "execute_result"
    }
   ],
   "source": [
    "import pandas as pd\n",
    "\n",
    "df = pd.read_csv('dataset/conditional_probability.csv')\n",
    "df"
   ]
  },
  {
   "cell_type": "code",
   "execution_count": 2,
   "metadata": {},
   "outputs": [
    {
     "data": {
      "text/plain": [
       "0.08916666666666667"
      ]
     },
     "execution_count": 2,
     "metadata": {},
     "output_type": "execute_result"
    }
   ],
   "source": [
    "# P(employee has less than a high school education) = The probability of a employee that had less than a high school education\n",
    "\n",
    "total_emp = 1200\n",
    "less_than_high_school_emp = 107\n",
    "\n",
    "less_than_high_school_emp / total_emp"
   ]
  },
  {
   "cell_type": "code",
   "execution_count": 3,
   "metadata": {},
   "outputs": [
    {
     "data": {
      "text/plain": [
       "0.24666666666666667"
      ]
     },
     "execution_count": 3,
     "metadata": {},
     "output_type": "execute_result"
    }
   ],
   "source": [
    "# P(employe earns under $20,000) = The probability of a employee that earn under $20,000\n",
    "\n",
    "total_under_20000 = 296\n",
    "\n",
    "total_under_20000 / total_emp"
   ]
  },
  {
   "cell_type": "code",
   "execution_count": 4,
   "metadata": {},
   "outputs": [
    {
     "data": {
      "text/plain": [
       "0.0016666666666666668"
      ]
     },
     "execution_count": 4,
     "metadata": {},
     "output_type": "execute_result"
    }
   ],
   "source": [
    "#  P(employee earns over $30,000 and has less than a high school education) = The probability of an employee that earn over $30,000 with a less than high school level education\n",
    "\n",
    "hard_worker = 2\n",
    "hard_worker / total_emp"
   ]
  },
  {
   "cell_type": "code",
   "execution_count": 5,
   "metadata": {},
   "outputs": [
    {
     "data": {
      "text/plain": [
       "0.09583333333333334"
      ]
     },
     "execution_count": 5,
     "metadata": {},
     "output_type": "execute_result"
    }
   ],
   "source": [
    "# P(employee earns under $20,000 and has a college degree) = The probability of an employee that earn under $20,000 with a college degree\n",
    "\n",
    "starving_graduates = 115\n",
    "starving_graduates / total_emp"
   ]
  },
  {
   "cell_type": "code",
   "execution_count": 16,
   "metadata": {
    "tags": []
   },
   "outputs": [
    {
     "name": "stdout",
     "output_type": "stream",
     "text": [
      "0.33666666666666667\n",
      "0.6633333333333333\n",
      "0.08916666666666667\n",
      "36.02333333333333\n",
      "70.97666666666667\n",
      "12.127855555555556\n",
      "59.20904444444445\n"
     ]
    },
    {
     "data": {
      "text/plain": [
       "0.20483113127986827"
      ]
     },
     "execution_count": 16,
     "metadata": {},
     "output_type": "execute_result"
    }
   ],
   "source": [
    "#  P(H|E)\n",
    "#  P(employee earns over $30,000 | has only high school education) = The probability of an employee that earn over $30,000 with a high school education \n",
    "outstanding_highschooler = 14\n",
    "emp_30000 = 404\n",
    "emp_without_30000 = total_emp - emp_30000\n",
    "\n",
    "#  P(H)\n",
    "p_of_30000_emp = emp_30000 / total_emp\n",
    "print(p_of_30000_emp)\n",
    "\n",
    "# P(¬ H)\n",
    "p_of_not_30000_emp = emp_without_30000 / total_emp\n",
    "print(p_of_not_30000_emp)\n",
    "\n",
    "#  P(E)\n",
    "p_of_low_level_emp = less_than_high_school_emp / total_emp\n",
    "print(p_of_low_level_emp)\n",
    "\n",
    "# P(E|H)\n",
    "p_of_low_level_emp_with_30000 =  (total_emp * p_of_30000_emp) * p_of_low_level_emp\n",
    "print(p_of_low_level_emp_with_30000)\n",
    "\n",
    "# P(E|¬ H)\n",
    "p_of_low_level_emp_without_30000 =  (total_emp * p_of_not_30000_emp) * p_of_low_level_emp\n",
    "print(p_of_low_level_emp_without_30000)\n",
    "\n",
    "# P(H) * P(E|H)\n",
    "numerator = p_of_30000_emp * p_of_low_level_emp_with_30000\n",
    "print(numerator)\n",
    "\n",
    "# (P(H) * P(E|H)) * (P(¬H) * P(E|¬ H)) \n",
    "denominator = numerator + (p_of_not_30000_emp * p_of_low_level_emp_without_30000)\n",
    "print(denominator)\n",
    "\n",
    "numerator / denominator"
   ]
  },
  {
   "cell_type": "code",
   "execution_count": 17,
   "metadata": {},
   "outputs": [
    {
     "data": {
      "text/plain": [
       "136.01333333333332"
      ]
     },
     "execution_count": 17,
     "metadata": {},
     "output_type": "execute_result"
    }
   ],
   "source": [
    "# Problem above but with simplified denominator\n",
    "numerator / p_of_low_level_emp\n",
    "# 136.01333333333332 ???? Why though?"
   ]
  },
  {
   "cell_type": "code",
   "execution_count": 29,
   "metadata": {},
   "outputs": [
    {
     "data": {
      "text/plain": [
       "0.018691588785046728"
      ]
     },
     "execution_count": 29,
     "metadata": {},
     "output_type": "execute_result"
    }
   ],
   "source": [
    "2 / 107"
   ]
  },
  {
   "cell_type": "code",
   "execution_count": 30,
   "metadata": {},
   "outputs": [
    {
     "data": {
      "text/plain": [
       "0.6066666666666667"
      ]
     },
     "execution_count": 30,
     "metadata": {},
     "output_type": "execute_result"
    }
   ],
   "source": [
    "91 / 150"
   ]
  },
  {
   "cell_type": "code",
   "execution_count": 31,
   "metadata": {},
   "outputs": [
    {
     "data": {
      "text/plain": [
       "0.9733333333333334"
      ]
     },
     "execution_count": 31,
     "metadata": {},
     "output_type": "execute_result"
    }
   ],
   "source": [
    "(91 + 55) / 150 "
   ]
  },
  {
   "cell_type": "code",
   "execution_count": 32,
   "metadata": {},
   "outputs": [
    {
     "data": {
      "text/plain": [
       "0.6363636363636364"
      ]
     },
     "execution_count": 32,
     "metadata": {},
     "output_type": "execute_result"
    }
   ],
   "source": [
    "35 / 55"
   ]
  },
  {
   "cell_type": "code",
   "execution_count": 33,
   "metadata": {},
   "outputs": [],
   "source": [
    "arr = [5, 6, 7, 8, 9, 10, 11, 12, 13, 14]\n",
    "\n",
    "p = 1\n",
    "total  = len(arr)"
   ]
  },
  {
   "cell_type": "code",
   "execution_count": 34,
   "metadata": {},
   "outputs": [
    {
     "data": {
      "text/plain": [
       "0.5"
      ]
     },
     "execution_count": 34,
     "metadata": {},
     "output_type": "execute_result"
    }
   ],
   "source": [
    "count = 0\n",
    "for v in arr:\n",
    "    if v < 10:\n",
    "        count += 1\n",
    "\n",
    "count / total"
   ]
  },
  {
   "cell_type": "code",
   "execution_count": 35,
   "metadata": {},
   "outputs": [
    {
     "data": {
      "text/plain": [
       "0.2"
      ]
     },
     "execution_count": 35,
     "metadata": {},
     "output_type": "execute_result"
    }
   ],
   "source": [
    "count = 0 \n",
    "for v in arr:\n",
    "    if v > 8 and v < 11:\n",
    "        count += 1\n",
    "\n",
    "count / total"
   ]
  },
  {
   "cell_type": "code",
   "execution_count": 36,
   "metadata": {},
   "outputs": [
    {
     "data": {
      "text/plain": [
       "0.2"
      ]
     },
     "execution_count": 36,
     "metadata": {},
     "output_type": "execute_result"
    }
   ],
   "source": [
    "count = 0 \n",
    "for v in arr:\n",
    "    if v > 12:\n",
    "        count += 1\n",
    "\n",
    "count / total"
   ]
  },
  {
   "cell_type": "code",
   "execution_count": 37,
   "metadata": {},
   "outputs": [
    {
     "data": {
      "text/plain": [
       "0.0625"
      ]
     },
     "execution_count": 37,
     "metadata": {},
     "output_type": "execute_result"
    }
   ],
   "source": [
    "walk = 0.25\n",
    "cycle = 0.75\n",
    "\n",
    "late_for_walking = 0.1\n",
    "late_for_cycle = 0.05\n",
    "\n",
    "(cycle  * late_for_cycle) + (walk * late_for_walking)"
   ]
  },
  {
   "cell_type": "code",
   "execution_count": 38,
   "metadata": {},
   "outputs": [
    {
     "data": {
      "text/plain": [
       "0.916"
      ]
     },
     "execution_count": 38,
     "metadata": {},
     "output_type": "execute_result"
    }
   ],
   "source": [
    "sharon = 0.3\n",
    "lisa = 0.7\n",
    "\n",
    "sharon_pasta = 0.75\n",
    "lisa_pasta = 0.12\n",
    "\n",
    "1 - (lisa * lisa_pasta)\n"
   ]
  },
  {
   "cell_type": "code",
   "execution_count": 39,
   "metadata": {},
   "outputs": [
    {
     "data": {
      "text/plain": [
       "0.6910000000000001"
      ]
     },
     "execution_count": 39,
     "metadata": {},
     "output_type": "execute_result"
    }
   ],
   "source": [
    "1 - ((sharon * sharon_pasta) + (lisa * lisa_pasta))"
   ]
  },
  {
   "cell_type": "code",
   "execution_count": 40,
   "metadata": {},
   "outputs": [
    {
     "data": {
      "text/plain": [
       "0.7"
      ]
     },
     "execution_count": 40,
     "metadata": {},
     "output_type": "execute_result"
    }
   ],
   "source": [
    "7 / 10"
   ]
  },
  {
   "cell_type": "code",
   "execution_count": 41,
   "metadata": {},
   "outputs": [
    {
     "data": {
      "text/plain": [
       "0.1875"
      ]
     },
     "execution_count": 41,
     "metadata": {},
     "output_type": "execute_result"
    }
   ],
   "source": [
    "letters = \"AARDVARK\"\n",
    "total = len(letters)\n",
    "\n",
    "def create_hist(arr):\n",
    "    result = {}\n",
    "    for v in arr:\n",
    "        if v not in result:\n",
    "            result[v] = 1\n",
    "        else: \n",
    "            result[v] += 1\n",
    "\n",
    "    return result\n",
    "\n",
    "first_half = letters[0:4]\n",
    "\n",
    "first_half_dict = create_hist(first_half)\n",
    "second_half = letters[4:]\n",
    "second_half_dict = create_hist(second_half)\n",
    "letter_a = 3\n",
    "\n",
    "# a)\n",
    "(letter_a / total) * (first_half_dict['A'] / len(first_half))"
   ]
  },
  {
   "cell_type": "code",
   "execution_count": 42,
   "metadata": {},
   "outputs": [
    {
     "data": {
      "text/plain": [
       "0.25"
      ]
     },
     "execution_count": 42,
     "metadata": {},
     "output_type": "execute_result"
    }
   ],
   "source": [
    "# B) \n",
    "(4 / total) * (2 / len(first_half))"
   ]
  },
  {
   "cell_type": "code",
   "execution_count": 43,
   "metadata": {},
   "outputs": [],
   "source": [
    "#              softball game\n",
    "#           70% /         \\ 30%\n",
    "#              /           \\\n",
    "#         heavy fog    light drizzle\n",
    "#       30% / \\ 70%       80% / \\ 20%\n",
    "#          /   \\             /   \\\n",
    "#  cancel  not cancel   cancel  not cancel "
   ]
  },
  {
   "cell_type": "code",
   "execution_count": 44,
   "metadata": {},
   "outputs": [
    {
     "data": {
      "text/plain": [
       "0.44999999999999996"
      ]
     },
     "execution_count": 44,
     "metadata": {},
     "output_type": "execute_result"
    }
   ],
   "source": [
    "(0.70 * 0.30) + (0.3 * 0.80)"
   ]
  },
  {
   "cell_type": "code",
   "execution_count": 45,
   "metadata": {},
   "outputs": [
    {
     "data": {
      "text/plain": [
       "0.06"
      ]
     },
     "execution_count": 45,
     "metadata": {},
     "output_type": "execute_result"
    }
   ],
   "source": [
    "(0.3 * 0.2)"
   ]
  },
  {
   "cell_type": "code",
   "execution_count": 46,
   "metadata": {},
   "outputs": [],
   "source": [
    "#          5/6  /         \\ 1/ 6\n",
    "#              /           \\\n",
    "#            X              Y\n",
    "#       2/5 / \\ 3/5    3/4 / \\ 1/4\n",
    "#          /   \\          /   \\\n",
    "#         X     Y       X       Y"
   ]
  },
  {
   "cell_type": "code",
   "execution_count": null,
   "metadata": {},
   "outputs": [],
   "source": []
  },
  {
   "cell_type": "code",
   "execution_count": 47,
   "metadata": {},
   "outputs": [
    {
     "data": {
      "text/plain": [
       "0.041666666666666664"
      ]
     },
     "execution_count": 47,
     "metadata": {},
     "output_type": "execute_result"
    }
   ],
   "source": [
    "# Not X\n",
    "(1/6) * (1/4)"
   ]
  }
 ],
 "metadata": {
  "kernelspec": {
   "display_name": "Python 3.7.6 64-bit",
   "language": "python",
   "name": "python37664bitb717e909334440bbbf24cce6d1ff561e"
  },
  "language_info": {
   "codemirror_mode": {
    "name": "ipython",
    "version": 3
   },
   "file_extension": ".py",
   "mimetype": "text/x-python",
   "name": "python",
   "nbconvert_exporter": "python",
   "pygments_lexer": "ipython3",
   "version": "3.7.7"
  }
 },
 "nbformat": 4,
 "nbformat_minor": 4
}
