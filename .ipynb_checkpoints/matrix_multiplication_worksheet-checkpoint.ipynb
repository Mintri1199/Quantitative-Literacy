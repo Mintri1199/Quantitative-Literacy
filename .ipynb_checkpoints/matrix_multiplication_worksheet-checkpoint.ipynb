{
 "cells": [
  {
   "cell_type": "markdown",
   "metadata": {},
   "source": [
    "### Write the augmented matrix for each system of linear equations."
   ]
  },
  {
   "cell_type": "code",
   "execution_count": 6,
   "metadata": {},
   "outputs": [
    {
     "name": "stdout",
     "output_type": "stream",
     "text": [
      "[5, -2, -6]\n",
      "[-1, 5, 15]\n"
     ]
    }
   ],
   "source": [
    "# 5x - 2y = -6 \n",
    "# -x + 5y = 15 \n",
    "\n",
    "answer = [[ 5, -2, -6],\n",
    "          [-1,  5, 15 ]]\n",
    "\n",
    "p = [print(x) for x in answer]"
   ]
  },
  {
   "cell_type": "code",
   "execution_count": 12,
   "metadata": {},
   "outputs": [
    {
     "name": "stdout",
     "output_type": "stream",
     "text": [
      "[-3, -4, 20]\n",
      "[3, -5, 25]\n"
     ]
    }
   ],
   "source": [
    "# -3x - 4y = -20 \n",
    "# 3x - 5y = 25 \n",
    "\n",
    "answer = [[ -3, -4, 20],\n",
    "          [  3, -5, 25]]\n",
    "\n",
    "p = [print(x) for x in answer]"
   ]
  },
  {
   "cell_type": "code",
   "execution_count": 14,
   "metadata": {},
   "outputs": [
    {
     "name": "stdout",
     "output_type": "stream",
     "text": [
      "[1, 3, -2, -11]\n",
      "[-2, 5, 3, 17]\n",
      "[4, 0, -1, 1]\n"
     ]
    }
   ],
   "source": [
    "# x + 3y -2z = -11 \n",
    "# -2x - 5y + 3z = 17 \n",
    "# 4x - z = 1 \n",
    "\n",
    "answer = [[ 1, 3, -2, -11],\n",
    "          [-2,  5, 3, 17],\n",
    "          [4, 0, -1, 1]]\n",
    "\n",
    "p = [print(x) for x in answer]"
   ]
  },
  {
   "cell_type": "code",
   "execution_count": 15,
   "metadata": {},
   "outputs": [
    {
     "name": "stdout",
     "output_type": "stream",
     "text": [
      "[-2, -4, -5, 11]\n",
      "[-1, 0, 4, 25]\n",
      "[-3, -5, 1, -25]\n"
     ]
    }
   ],
   "source": [
    "# -2x - 4y - 5z = 11\n",
    "# -x + 4z = 25 \n",
    "# -3x - 5y + z = -25 \n",
    "\n",
    "answer = [[ -2, -4, -5, 11],\n",
    "          [ -1,  0, 4,  25],\n",
    "          [ -3, -5, 1, -25]]\n",
    "\n",
    "p = [print(x) for x in answer]"
   ]
  },
  {
   "cell_type": "markdown",
   "metadata": {},
   "source": [
    "### Write the system of linear equations for each augmented matrix."
   ]
  },
  {
   "cell_type": "code",
   "execution_count": 24,
   "metadata": {},
   "outputs": [
    {
     "name": "stdout",
     "output_type": "stream",
     "text": [
      "3x + 4y = 1\n",
      "-3x + 2y = 23\n"
     ]
    }
   ],
   "source": [
    "def print_answer(matrix):\n",
    "    coef = ['x', 'y', 'z']\n",
    "    for row in matrix:\n",
    "        answer_str = ''\n",
    "        for i in range(len(row)):\n",
    "            if i == 0:\n",
    "                answer_str += str(row[i])+ coef[i] + ' '\n",
    "            elif i + 1 == len(row):\n",
    "                answer_str += '= ' + str(row[i])\n",
    "            else:\n",
    "                answer_str += '+ ' + str(row[i]) + coef[i] + ' '\n",
    "        print(answer_str)\n",
    "\n",
    "problem = [[3, 4, 1],\n",
    "           [-3, 2, 23]]\n",
    "\n",
    "print_answer(problem)"
   ]
  },
  {
   "cell_type": "code",
   "execution_count": 25,
   "metadata": {},
   "outputs": [
    {
     "name": "stdout",
     "output_type": "stream",
     "text": [
      "-5x + 1y = 16\n",
      "1x + 5y = -2\n"
     ]
    }
   ],
   "source": [
    "problem = [[-5, 1, 16],\n",
    "           [1, 5, -2]]\n",
    "\n",
    "print_answer(problem)"
   ]
  },
  {
   "cell_type": "code",
   "execution_count": 26,
   "metadata": {},
   "outputs": [
    {
     "name": "stdout",
     "output_type": "stream",
     "text": [
      "3x + -1y + 1z = 8\n",
      "0x + -1y + 2z = -10\n",
      "-2x + 2y + 2z = -8\n"
     ]
    }
   ],
   "source": [
    "problem = [[3, -1, 1, 8],\n",
    "           [0, -1, 2, -10],\n",
    "           [-2, 2, 2, -8]]\n",
    "\n",
    "print_answer(problem)"
   ]
  },
  {
   "cell_type": "code",
   "execution_count": 27,
   "metadata": {},
   "outputs": [
    {
     "name": "stdout",
     "output_type": "stream",
     "text": [
      "-5x + -4y + 3z = -8\n",
      "1x + 0y + 4z = 0\n",
      "3x + -5y + 5z = -10\n"
     ]
    }
   ],
   "source": [
    "problem = [[-5, -4, 3, -8],\n",
    "           [1, 0, 4, 0],\n",
    "           [3, -5, 5, -10]]\n",
    "\n",
    "print_answer(problem)"
   ]
  },
  {
   "cell_type": "markdown",
   "metadata": {},
   "source": [
    "###  Find the reduced row-echelon form for each system of linear equations."
   ]
  },
  {
   "cell_type": "code",
   "execution_count": 1,
   "metadata": {},
   "outputs": [],
   "source": [
    "# 5x - 4y = -10\n",
    "# -x - y = 2 \n",
    "\n",
    "answer = [[ 1, 0, -2],\n",
    "          [0,  1,  0]]"
   ]
  },
  {
   "cell_type": "code",
   "execution_count": 30,
   "metadata": {},
   "outputs": [],
   "source": [
    "# 4x - 2y = 2 \n",
    "# 5x - 2y + z = 7 \n",
    "# 3x + 4y - z = 3\n",
    "\n",
    "answer = [[1, 0, 0, 1],\n",
    "          [0, 1, 0, 1],\n",
    "          [0, 0, 1, 4]]"
   ]
  },
  {
   "cell_type": "code",
   "execution_count": 31,
   "metadata": {},
   "outputs": [],
   "source": [
    "# x - y + 2z = -1\n",
    "# -3x + 3y + 5z = 3 \n",
    "# 2x - 2y = -2\n",
    "\n",
    "answer = [[ 1, 1, 0, -1],\n",
    "          [ 0, 0, 1,  0],\n",
    "          [ 0, 0, 0,  0]]"
   ]
  },
  {
   "cell_type": "code",
   "execution_count": 32,
   "metadata": {},
   "outputs": [],
   "source": [
    "# 3x + 3y = -12 \n",
    "# -4x - 2y + 2z = -14 \n",
    "# x + 3y + 2z = 11 \n",
    "\n",
    "answer = [[ 1, 0, -1, 0],\n",
    "          [0,  1, 1, 0],\n",
    "          [0, 0, 0, 1]]"
   ]
  },
  {
   "cell_type": "markdown",
   "metadata": {},
   "source": [
    "### Solve each system of linear equations using Gaussian or Gauss-Jordan elimination."
   ]
  },
  {
   "cell_type": "code",
   "execution_count": 2,
   "metadata": {},
   "outputs": [
    {
     "name": "stdout",
     "output_type": "stream",
     "text": [
      "(3, 1)\n"
     ]
    }
   ],
   "source": [
    "# -3x - 4y = -5\n",
    "# 4x + 3y = 9\n",
    "\n",
    "print(\"(3, -1)\")"
   ]
  },
  {
   "cell_type": "code",
   "execution_count": 4,
   "metadata": {},
   "outputs": [
    {
     "name": "stdout",
     "output_type": "stream",
     "text": [
      "(-3, -1, -1)\n"
     ]
    }
   ],
   "source": [
    "# 2x + 5y + z = -12 \n",
    "# -x + 4y + 3z = -4 \n",
    "# 5x - 2z = 13 \n",
    "\n",
    "print(\"(-3, -1, -1)\")"
   ]
  },
  {
   "cell_type": "code",
   "execution_count": 3,
   "metadata": {},
   "outputs": [
    {
     "name": "stdout",
     "output_type": "stream",
     "text": [
      "(-z + 3, 3z + 2, z)\n"
     ]
    }
   ],
   "source": [
    "# 3x + 2y - 3z = 13\n",
    "# 4x + 4z = 12 \n",
    "# -2x - y + z = -8\n",
    "\n",
    "print(\"(-z + 3, 3z + 2, z)\")"
   ]
  },
  {
   "cell_type": "code",
   "execution_count": 5,
   "metadata": {},
   "outputs": [
    {
     "name": "stdout",
     "output_type": "stream",
     "text": [
      "There are no solutions\n"
     ]
    }
   ],
   "source": [
    "# -2x - 4y + 4z = 14\n",
    "# 4x + 2y + 4z = -4 \n",
    "# x + 2z = -2 \n",
    "\n",
    "print(\"There are no solutions\")"
   ]
  },
  {
   "cell_type": "code",
   "execution_count": null,
   "metadata": {},
   "outputs": [],
   "source": []
  }
 ],
 "metadata": {
  "kernelspec": {
   "display_name": "Python 3",
   "language": "python",
   "name": "python3"
  },
  "language_info": {
   "codemirror_mode": {
    "name": "ipython",
    "version": 3
   },
   "file_extension": ".py",
   "mimetype": "text/x-python",
   "name": "python",
   "nbconvert_exporter": "python",
   "pygments_lexer": "ipython3",
   "version": "3.7.7"
  }
 },
 "nbformat": 4,
 "nbformat_minor": 4
}
