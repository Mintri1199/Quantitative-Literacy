{
 "cells": [
  {
   "cell_type": "code",
   "execution_count": 2,
   "metadata": {
    "tags": [
     "outputPrepend"
    ]
   },
   "outputs": [
    {
     "ename": "SyntaxError",
     "evalue": "invalid syntax (<ipython-input-2-81b35db5bcfb>, line 41)",
     "output_type": "error",
     "traceback": [
      "\u001b[0;36m  File \u001b[0;32m\"<ipython-input-2-81b35db5bcfb>\"\u001b[0;36m, line \u001b[0;32m41\u001b[0m\n\u001b[0;31m    ne)\u001b[0m\n\u001b[0m      ^\u001b[0m\n\u001b[0;31mSyntaxError\u001b[0m\u001b[0;31m:\u001b[0m invalid syntax\n"
     ]
    }
   ],
   "source": [
    "import csv\n",
    "import matplotlib.pyplot as plt\n",
    "import numpy as np\n",
    "\n",
    "with open('starbucks_drinkMenu_expanded.csv') as csvfile:\n",
    "    drinksreader = csv.reader(csvfile) \n",
    "    \n",
    "    drink_category_index = headers.index(\"Beverage\")\n",
    "    sugars_index = headers.index(\" Sugars (g)\")\n",
    "    \n",
    "    sugar_in_lattes = []\n",
    "    sugar_in_teas = []\n",
    "    sugar_in_mochas = []\n",
    "    \n",
    "    for row in drinksreader:\n",
    "        drink_category = row[drink_category_index]\n",
    "        sugar_grams = row[sugars_index]\n",
    "        if 'Latte' in drink_category:\n",
    "            sugar_in_lattes.append(float(sugar_grams))\n",
    "        if 'Tea' in drink_category:\n",
    "            sugar_in_teas.append(float(sugar_grams))\n",
    "        if 'Mocha' in drink_category:\n",
    "            sugar_in_mochas.append(float(sugar_grams))\n",
    "        \n",
    "    \n",
    "    beverage_categories = [\"Latte\", 'Tea', 'Mocha']\n",
    "    average_sugar_in_lattes = np.mean(sugar_in_lattes)\n",
    "    average_sugar_in_teas = np.mean(sugar_in_teas)\n",
    "    average_sugar_in_mochas = np.mean(sugar_in_mochas)\n",
    "    \n",
    "    average_sugars = [average_sugar_in_lattes, average_sugar_in_teas, average_sugar_in_mochas]\n",
    "    \n",
    "    vertical_bar_chart_figure = plt.figure()\n",
    "    vertical_bar_chart_axes = vertical_bar_chart_figure.add_axes([0.1, 0.2, 0.8, 0.9])\n",
    "    vertical_bar_chart_axes.bar(beverage_categories, average_sugars, color=[\"pink\", \"blue\", \"green\"])\n",
    "    \n",
    "    vertical_bar_chart_axes.set_title('Vertical bar chart of average sugar in grams for different types of beverages on the Starbucks menu')\n",
    "    \n",
    "    vertical_bar_chart_axes.set_ylabel('Average sugar content in grams')\n",
    "    vertical_bar_chart_axes.set_xlabel('Beverage type')\n",
    "    ne)\n",
    "    drink_category_index = headers.index('Beverage')\n",
    "    sugars_index = headers.index(' Sugars (g)')\n",
    "\n",
    "    sugar_in_lattes = []\n",
    "    sugar_in_teas = []\n",
    "    sugar_in_mochas = []\n",
    "\n",
    "    for row in drinksreader:\n",
    "        drink_category = row[drink_category_index]\n",
    "        sugar_grams = row[sugars_index]\n",
    "        if 'Latte' in drink_category:\n",
    "            sugar_in_lattes.append(float(sugar_grams))\n",
    "        if 'Tea' in drink_category:\n",
    "            sugar_in_teas.append(float(sugar_grams))\n",
    "        if 'Mocha' in drink_category:\n",
    "            sugar_in_mochas.append(float(sugar_grams))\n",
    " \n",
    "    \n",
    "    beverage_categories = ['Latte', 'Tea', 'Mocha']\n",
    "    average_sugar_in_lattes = np.mean(sugar_in_lattes)\n",
    "    average_sugar_in_teas = np.mean(sugar_in_teas)\n",
    "    average_sugar_in_mochas = np.mean(sugar_in_mochas)\n",
    "\n",
    "    average_sugars = [average_sugar_in_lattes, average_sugar_in_teas, average_sugar_in_mochas]\n",
    "\n",
    "    print(average_sugars)\n",
    "    vertical_bar_chart_figure = plt.figure()\n",
    "    vertical_bar_chart_axes = vertical_bar_chart_figure.add_axes([0.1, 0.2, 0.8, 0.9])\n",
    "    vertical_bar_chart_axes.bar(beverage_categories, average_sugars, color=[\"pink\", \"blue\", \"green\"])\n",
    "\n",
    "    vertical_bar_chart_axes.set_title('Vertical bar chart of average sugar in grams for different types of beverages on the Starbucks menu')\n",
    "\n",
    "    vertical_bar_chart_axes.set_ylabel('Average sugar content in grams')\n",
    "    vertical_bar_chart_axes.set_xlabel('Beverage type')\n",
    "\n",
    "\n",
    "    plt.show()"
   ]
  },
  {
   "cell_type": "code",
   "execution_count": null,
   "metadata": {},
   "outputs": [],
   "source": []
  },
  {
   "cell_type": "code",
   "execution_count": null,
   "metadata": {},
   "outputs": [],
   "source": []
  }
 ],
 "metadata": {
  "kernelspec": {
   "display_name": "Python 3",
   "language": "python",
   "name": "python3"
  },
  "language_info": {
   "codemirror_mode": {
    "name": "ipython",
    "version": 3
   },
   "file_extension": ".py",
   "mimetype": "text/x-python",
   "name": "python",
   "nbconvert_exporter": "python",
   "pygments_lexer": "ipython3",
   "version": "3.7.7"
  }
 },
 "nbformat": 4,
 "nbformat_minor": 4
}
