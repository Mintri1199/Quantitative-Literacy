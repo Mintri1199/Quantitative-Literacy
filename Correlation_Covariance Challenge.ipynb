{
 "cells": [
  {
   "cell_type": "code",
   "execution_count": 48,
   "metadata": {},
   "outputs": [],
   "source": [
    "import numpy as np\n",
    "import pandas as pd \n",
    "import seaborn as sn\n",
    "\n",
    "def covariance(x_arr, y_arr):\n",
    "    assert len(x_arr) == len(y_arr)\n",
    "    x_mean = np.mean(x_arr)\n",
    "    y_mean = np.mean(y_arr)\n",
    "\n",
    "    result = 0 \n",
    "\n",
    "    for i in range(len(x_arr)):\n",
    "        result += (x_arr[i] - x_mean) * (y_arr[i] - y_mean) \n",
    "\n",
    "    return result / (len(x_arr) - 1)\n",
    "\n",
    "x_array = [2, 3, 5, 7, 8, 9, 14, 16, 18, 19]\n",
    "y_array = [2, 3, 6, 7, 9, 11, 15, 16, 18, 19]"
   ]
  },
  {
   "cell_type": "code",
   "execution_count": 49,
   "metadata": {},
   "outputs": [
    {
     "output_type": "execute_result",
     "data": {
      "text/plain": "[[0.0, 0.0, 0.0, 0.0],\n [0.0, 0.3333333333333333, 0.5, 0.6666666666666666],\n [0.0, 0.5, 1.0, 1.5],\n [0.0, 0.6666666666666666, 1.5, 2.3333333333333335]]"
     },
     "metadata": {},
     "execution_count": 49
    }
   ],
   "source": [
    "def covariance_matrix(data):\n",
    "    '''\n",
    "    data: list of float lists that are equal in length\n",
    "    '''\n",
    "    result = []\n",
    "    for i in range(len(data)):\n",
    "        result.append([])\n",
    "        x_dataset = data[i]\n",
    "        for j in range(len(data)):\n",
    "            y_dataset = data[j]\n",
    "            result[i].append(covariance(x_dataset, y_dataset))\n",
    "            \n",
    "    return result\n",
    "\n",
    "dataset = [[1, 1, 1], [1, 2, 1], [1, 3, 2], [1, 4, 3]]\n",
    "\n",
    "matrix = covariance_matrix(dataset)\n",
    "matrix"
   ]
  },
  {
   "cell_type": "code",
   "execution_count": 50,
   "metadata": {},
   "outputs": [
    {
     "output_type": "execute_result",
     "data": {
      "text/plain": "array([[0.        , 0.        , 0.        , 0.        ],\n       [0.        , 0.33333333, 0.5       , 0.66666667],\n       [0.        , 0.5       , 1.        , 1.5       ],\n       [0.        , 0.66666667, 1.5       , 2.33333333]])"
     },
     "metadata": {},
     "execution_count": 50
    }
   ],
   "source": [
    "cov = np.cov(dataset)\n",
    "cov"
   ]
  },
  {
   "cell_type": "code",
   "execution_count": 55,
   "metadata": {},
   "outputs": [
    {
     "output_type": "execute_result",
     "data": {
      "text/plain": "    Color Sex    Speed\n0    BCWF   H  172.155\n1    SIWF   H  163.569\n2      BB   H  163.442\n3    BBSP   H  163.392\n4      BC   H  163.366\n..    ...  ..      ...\n395    BB   H   90.901\n396   SIL   H   87.817\n397  BBSP   H   83.929\n398    BC   H   78.286\n399    BB   H   76.677\n\n[400 rows x 3 columns]",
      "text/html": "<div>\n<style scoped>\n    .dataframe tbody tr th:only-of-type {\n        vertical-align: middle;\n    }\n\n    .dataframe tbody tr th {\n        vertical-align: top;\n    }\n\n    .dataframe thead th {\n        text-align: right;\n    }\n</style>\n<table border=\"1\" class=\"dataframe\">\n  <thead>\n    <tr style=\"text-align: right;\">\n      <th></th>\n      <th>Color</th>\n      <th>Sex</th>\n      <th>Speed</th>\n    </tr>\n  </thead>\n  <tbody>\n    <tr>\n      <th>0</th>\n      <td>BCWF</td>\n      <td>H</td>\n      <td>172.155</td>\n    </tr>\n    <tr>\n      <th>1</th>\n      <td>SIWF</td>\n      <td>H</td>\n      <td>163.569</td>\n    </tr>\n    <tr>\n      <th>2</th>\n      <td>BB</td>\n      <td>H</td>\n      <td>163.442</td>\n    </tr>\n    <tr>\n      <th>3</th>\n      <td>BBSP</td>\n      <td>H</td>\n      <td>163.392</td>\n    </tr>\n    <tr>\n      <th>4</th>\n      <td>BC</td>\n      <td>H</td>\n      <td>163.366</td>\n    </tr>\n    <tr>\n      <th>...</th>\n      <td>...</td>\n      <td>...</td>\n      <td>...</td>\n    </tr>\n    <tr>\n      <th>395</th>\n      <td>BB</td>\n      <td>H</td>\n      <td>90.901</td>\n    </tr>\n    <tr>\n      <th>396</th>\n      <td>SIL</td>\n      <td>H</td>\n      <td>87.817</td>\n    </tr>\n    <tr>\n      <th>397</th>\n      <td>BBSP</td>\n      <td>H</td>\n      <td>83.929</td>\n    </tr>\n    <tr>\n      <th>398</th>\n      <td>BC</td>\n      <td>H</td>\n      <td>78.286</td>\n    </tr>\n    <tr>\n      <th>399</th>\n      <td>BB</td>\n      <td>H</td>\n      <td>76.677</td>\n    </tr>\n  </tbody>\n</table>\n<p>400 rows × 3 columns</p>\n</div>"
     },
     "metadata": {},
     "execution_count": 55
    }
   ],
   "source": [
    "# Testing using pigeon racing dataset\n",
    "df = pd.read_csv('dataset/pigeon-racing.csv')\n",
    "# Remove unnecessary columns \n",
    "df = df.drop(columns=['Pos', 'Breeder', 'Pigeon', 'Name', 'Ent', 'Arrival', 'To Win', 'Eligible'])\n",
    "df"
   ]
  },
  {
   "cell_type": "code",
   "execution_count": 56,
   "metadata": {},
   "outputs": [
    {
     "output_type": "execute_result",
     "data": {
      "text/plain": "     Color  Sex    Speed\n0        0    0  172.155\n1        1    0  163.569\n2        2    0  163.442\n3        3    0  163.392\n4        4    0  163.366\n..     ...  ...      ...\n395      2    0   90.901\n396     20    0   87.817\n397      3    0   83.929\n398      4    0   78.286\n399      2    0   76.677\n\n[400 rows x 3 columns]",
      "text/html": "<div>\n<style scoped>\n    .dataframe tbody tr th:only-of-type {\n        vertical-align: middle;\n    }\n\n    .dataframe tbody tr th {\n        vertical-align: top;\n    }\n\n    .dataframe thead th {\n        text-align: right;\n    }\n</style>\n<table border=\"1\" class=\"dataframe\">\n  <thead>\n    <tr style=\"text-align: right;\">\n      <th></th>\n      <th>Color</th>\n      <th>Sex</th>\n      <th>Speed</th>\n    </tr>\n  </thead>\n  <tbody>\n    <tr>\n      <th>0</th>\n      <td>0</td>\n      <td>0</td>\n      <td>172.155</td>\n    </tr>\n    <tr>\n      <th>1</th>\n      <td>1</td>\n      <td>0</td>\n      <td>163.569</td>\n    </tr>\n    <tr>\n      <th>2</th>\n      <td>2</td>\n      <td>0</td>\n      <td>163.442</td>\n    </tr>\n    <tr>\n      <th>3</th>\n      <td>3</td>\n      <td>0</td>\n      <td>163.392</td>\n    </tr>\n    <tr>\n      <th>4</th>\n      <td>4</td>\n      <td>0</td>\n      <td>163.366</td>\n    </tr>\n    <tr>\n      <th>...</th>\n      <td>...</td>\n      <td>...</td>\n      <td>...</td>\n    </tr>\n    <tr>\n      <th>395</th>\n      <td>2</td>\n      <td>0</td>\n      <td>90.901</td>\n    </tr>\n    <tr>\n      <th>396</th>\n      <td>20</td>\n      <td>0</td>\n      <td>87.817</td>\n    </tr>\n    <tr>\n      <th>397</th>\n      <td>3</td>\n      <td>0</td>\n      <td>83.929</td>\n    </tr>\n    <tr>\n      <th>398</th>\n      <td>4</td>\n      <td>0</td>\n      <td>78.286</td>\n    </tr>\n    <tr>\n      <th>399</th>\n      <td>2</td>\n      <td>0</td>\n      <td>76.677</td>\n    </tr>\n  </tbody>\n</table>\n<p>400 rows × 3 columns</p>\n</div>"
     },
     "metadata": {},
     "execution_count": 56
    }
   ],
   "source": [
    "# Map colors and sex into numbers\n",
    "\n",
    "unique_colors = df.Color.unique()\n",
    "\n",
    "color_id_dict = {k:v for (k,v) in zip(unique_colors, range(len(unique_colors)))}\n",
    "\n",
    "sex_id_dict = {'H': 0, 'C': 1}\n",
    "df['Sex'] = [sex_id_dict[x] for x in df['Sex']]\n",
    "df['Color'] = [color_id_dict[x] for x in df['Color']]\n",
    "df"
   ]
  },
  {
   "cell_type": "code",
   "execution_count": 74,
   "metadata": {},
   "outputs": [
    {
     "output_type": "execute_result",
     "data": {
      "text/plain": "array([[ 2.51989411e+01, -2.01315789e-02, -8.19805669e+00],\n       [-2.01315789e-02,  2.20488722e-02, -1.52153885e-02],\n       [-8.19805669e+00, -1.52153885e-02,  6.36975135e+02]])"
     },
     "metadata": {},
     "execution_count": 74
    }
   ],
   "source": [
    "# Constant\n",
    "pigeon_dataset = [df[x].tolist() for x in df.columns]\n",
    "np.cov(pigeon_dataset)"
   ]
  },
  {
   "cell_type": "code",
   "execution_count": 75,
   "metadata": {},
   "outputs": [
    {
     "output_type": "execute_result",
     "data": {
      "text/plain": "[[25.198941102756834, -0.020131578947368365, -8.198056691729322],\n [-0.020131578947368365, 0.022048872180451203, -0.01521538847117778],\n [-8.198056691729322, -0.01521538847117778, 636.9751350821049]]"
     },
     "metadata": {},
     "execution_count": 75
    }
   ],
   "source": [
    "covariance_matrix(pigeon_dataset)"
   ]
  },
  {
   "cell_type": "code",
   "execution_count": null,
   "metadata": {},
   "outputs": [],
   "source": []
  }
 ],
 "metadata": {
  "kernelspec": {
   "display_name": "Python 3.7.6 64-bit",
   "language": "python",
   "name": "python37664bitb717e909334440bbbf24cce6d1ff561e"
  },
  "language_info": {
   "codemirror_mode": {
    "name": "ipython",
    "version": 3
   },
   "file_extension": ".py",
   "mimetype": "text/x-python",
   "name": "python",
   "nbconvert_exporter": "python",
   "pygments_lexer": "ipython3",
   "version": "3.7.7-final"
  }
 },
 "nbformat": 4,
 "nbformat_minor": 4
}