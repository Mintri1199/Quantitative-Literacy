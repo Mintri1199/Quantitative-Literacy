{
 "cells": [
  {
   "cell_type": "code",
   "execution_count": 8,
   "metadata": {},
   "outputs": [
    {
     "output_type": "stream",
     "name": "stdout",
     "text": "4.391304347826087\n4.0\nModeResult(mode=array([3]), count=array([5]))\n"
    }
   ],
   "source": [
    "import pandas as pd\n",
    "import numpy as np\n",
    "import matplotlib.pyplot as plt \n",
    "from scipy import stats\n",
    "\n",
    "data = np.array([1, 3, 5, 2, 3, 7, 8, 4, 10, 0, 6, 7, 3, 0, 3, 0, 5, 7, 10, 1, 4, 9, 3])\n",
    "\n",
    "print(np.mean(data))\n",
    "print(np.median(data))\n",
    "\n",
    "mode = stats.mode(data) \n",
    "print(mode)"
   ]
  },
  {
   "cell_type": "code",
   "execution_count": 10,
   "metadata": {},
   "outputs": [
    {
     "output_type": "stream",
     "name": "stdout",
     "text": "Apple     Orange     Banana       Pear\ncount   6.000000   6.000000   6.000000   6.000000\nmean   16.500000  11.333333  11.666667  16.333333\nstd    19.180719   7.257180  11.587349  14.555640\nmin     5.000000   1.000000   1.000000   2.000000\n25%     7.000000   6.500000   2.750000   8.000000\n50%     8.500000  14.000000   8.500000  10.000000\n75%    13.750000  14.750000  18.000000  24.000000\nmax    55.000000  20.000000  30.000000  40.000000\n"
    }
   ],
   "source": [
    "df = pd.DataFrame([[10, 20, 30, 40], [7, 14, 21, 28], [55, 15, 8, 12],\n",
    "                   [15, 14, 1, 8], [7, 1, 1, 8], [5, 4, 9, 2]],\n",
    "                  columns=['Apple', 'Orange', 'Banana', 'Pear'],\n",
    "                  index=['Basket1', 'Basket2', 'Basket3', 'Basket4',\n",
    "                         'Basket5', 'Basket6'])\n",
    "\n",
    "print(df.describe())"
   ]
  },
  {
   "cell_type": "code",
   "execution_count": 19,
   "metadata": {},
   "outputs": [
    {
     "output_type": "execute_result",
     "data": {
      "text/plain": "(183, 1)"
     },
     "metadata": {},
     "execution_count": 19
    }
   ],
   "source": [
    "titantic_df = pd.read_csv('dataset/titanic.csv').dropna()\n",
    "children = pd.DataFrame(titantic_df['Age'] < 16)\n",
    "children.shape"
   ]
  },
  {
   "cell_type": "code",
   "execution_count": null,
   "metadata": {},
   "outputs": [],
   "source": []
  }
 ],
 "metadata": {
  "kernelspec": {
   "display_name": "Python 3",
   "language": "python",
   "name": "python3"
  },
  "language_info": {
   "codemirror_mode": {
    "name": "ipython",
    "version": 3
   },
   "file_extension": ".py",
   "mimetype": "text/x-python",
   "name": "python",
   "nbconvert_exporter": "python",
   "pygments_lexer": "ipython3",
   "version": "3.7.6-final"
  }
 },
 "nbformat": 4,
 "nbformat_minor": 4
}