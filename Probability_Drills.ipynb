{
 "cells": [
  {
   "cell_type": "code",
   "execution_count": 1,
   "metadata": {},
   "outputs": [
    {
     "output_type": "execute_result",
     "data": {
      "text/plain": "0.08916666666666667"
     },
     "metadata": {},
     "execution_count": 1
    }
   ],
   "source": [
    "# P(A) where A is less than high school education level\n",
    "107 / 1200"
   ]
  },
  {
   "cell_type": "code",
   "execution_count": 2,
   "metadata": {},
   "outputs": [
    {
     "output_type": "execute_result",
     "data": {
      "text/plain": "0.24666666666666667"
     },
     "metadata": {},
     "execution_count": 2
    }
   ],
   "source": [
    "# P(A) where A's salary < 20,000\n",
    "296 / 1200"
   ]
  },
  {
   "cell_type": "code",
   "execution_count": 3,
   "metadata": {},
   "outputs": [
    {
     "output_type": "execute_result",
     "data": {
      "text/plain": "0.0016666666666666668"
     },
     "metadata": {},
     "execution_count": 3
    }
   ],
   "source": [
    "# P(A & B) union of A and B where A is employees' salary is more than 30,000 with a lower education level than high school \n",
    "2 / 1200"
   ]
  },
  {
   "cell_type": "code",
   "execution_count": 4,
   "metadata": {},
   "outputs": [
    {
     "output_type": "execute_result",
     "data": {
      "text/plain": "0.09583333333333334"
     },
     "metadata": {},
     "execution_count": 4
    }
   ],
   "source": [
    "115 / 1200"
   ]
  },
  {
   "cell_type": "code",
   "execution_count": 36,
   "metadata": {},
   "outputs": [
    {
     "output_type": "execute_result",
     "data": {
      "text/plain": "0.0625"
     },
     "metadata": {},
     "execution_count": 36
    }
   ],
   "source": [
    "14 / 224"
   ]
  },
  {
   "cell_type": "code",
   "execution_count": 37,
   "metadata": {},
   "outputs": [
    {
     "output_type": "execute_result",
     "data": {
      "text/plain": "0.018691588785046728"
     },
     "metadata": {},
     "execution_count": 37
    }
   ],
   "source": [
    "2 / 107"
   ]
  },
  {
   "cell_type": "code",
   "execution_count": 7,
   "metadata": {},
   "outputs": [
    {
     "output_type": "execute_result",
     "data": {
      "text/plain": "0.6066666666666667"
     },
     "metadata": {},
     "execution_count": 7
    }
   ],
   "source": [
    "91 / 150"
   ]
  },
  {
   "cell_type": "code",
   "execution_count": 8,
   "metadata": {},
   "outputs": [
    {
     "output_type": "execute_result",
     "data": {
      "text/plain": "0.9733333333333334"
     },
     "metadata": {},
     "execution_count": 8
    }
   ],
   "source": [
    "(91 + 55) / 150 "
   ]
  },
  {
   "cell_type": "code",
   "execution_count": 38,
   "metadata": {},
   "outputs": [
    {
     "output_type": "execute_result",
     "data": {
      "text/plain": "0.6363636363636364"
     },
     "metadata": {},
     "execution_count": 38
    }
   ],
   "source": [
    "35 / 55"
   ]
  },
  {
   "cell_type": "code",
   "execution_count": 10,
   "metadata": {},
   "outputs": [],
   "source": [
    "arr = [5, 6, 7, 8, 9, 10, 11, 12, 13, 14]\n",
    "\n",
    "p = 1\n",
    "total  = len(arr)"
   ]
  },
  {
   "cell_type": "code",
   "execution_count": 11,
   "metadata": {},
   "outputs": [
    {
     "output_type": "execute_result",
     "data": {
      "text/plain": "0.5"
     },
     "metadata": {},
     "execution_count": 11
    }
   ],
   "source": [
    "count = 0\n",
    "for v in arr:\n",
    "    if v < 10:\n",
    "        count += 1\n",
    "\n",
    "count / total"
   ]
  },
  {
   "cell_type": "code",
   "execution_count": 12,
   "metadata": {},
   "outputs": [
    {
     "output_type": "execute_result",
     "data": {
      "text/plain": "0.2"
     },
     "metadata": {},
     "execution_count": 12
    }
   ],
   "source": [
    "count = 0 \n",
    "for v in arr:\n",
    "    if v > 8 and v < 11:\n",
    "        count += 1\n",
    "\n",
    "count / total"
   ]
  },
  {
   "cell_type": "code",
   "execution_count": 13,
   "metadata": {},
   "outputs": [
    {
     "output_type": "execute_result",
     "data": {
      "text/plain": "0.2"
     },
     "metadata": {},
     "execution_count": 13
    }
   ],
   "source": [
    "count = 0 \n",
    "for v in arr:\n",
    "    if v > 12:\n",
    "        count += 1\n",
    "\n",
    "count / total"
   ]
  },
  {
   "cell_type": "code",
   "execution_count": 14,
   "metadata": {},
   "outputs": [
    {
     "output_type": "execute_result",
     "data": {
      "text/plain": "0.0625"
     },
     "metadata": {},
     "execution_count": 14
    }
   ],
   "source": [
    "walk = 0.25\n",
    "cycle = 0.75\n",
    "\n",
    "late_for_walking = 0.1\n",
    "late_for_cycle = 0.05\n",
    "\n",
    "(cycle  * late_for_cycle) + (walk * late_for_walking)"
   ]
  },
  {
   "cell_type": "code",
   "execution_count": 18,
   "metadata": {},
   "outputs": [
    {
     "output_type": "execute_result",
     "data": {
      "text/plain": "0.916"
     },
     "metadata": {},
     "execution_count": 18
    }
   ],
   "source": [
    "sharon = 0.3\n",
    "lisa = 0.7\n",
    "\n",
    "sharon_pasta = 0.75\n",
    "lisa_pasta = 0.12\n",
    "\n",
    "1 - (lisa * lisa_pasta)\n"
   ]
  },
  {
   "cell_type": "code",
   "execution_count": 19,
   "metadata": {},
   "outputs": [
    {
     "output_type": "execute_result",
     "data": {
      "text/plain": "0.6910000000000001"
     },
     "metadata": {},
     "execution_count": 19
    }
   ],
   "source": [
    "1 - ((sharon * sharon_pasta) + (lisa * lisa_pasta))"
   ]
  },
  {
   "cell_type": "code",
   "execution_count": 21,
   "metadata": {},
   "outputs": [
    {
     "output_type": "execute_result",
     "data": {
      "text/plain": "0.7"
     },
     "metadata": {},
     "execution_count": 21
    }
   ],
   "source": [
    "7 / 10"
   ]
  },
  {
   "cell_type": "code",
   "execution_count": 33,
   "metadata": {},
   "outputs": [
    {
     "output_type": "execute_result",
     "data": {
      "text/plain": "0.1875"
     },
     "metadata": {},
     "execution_count": 33
    }
   ],
   "source": [
    "letters = \"AARDVARK\"\n",
    "total = len(letters)\n",
    "\n",
    "def create_hist(arr):\n",
    "    result = {}\n",
    "    for v in arr:\n",
    "        if v not in result:\n",
    "            result[v] = 1\n",
    "        else: \n",
    "            result[v] += 1\n",
    "\n",
    "    return result\n",
    "\n",
    "first_half = letters[0:4]\n",
    "\n",
    "first_half_dict = create_hist(first_half)\n",
    "second_half = letters[4:]\n",
    "second_half_dict = create_hist(second_half)\n",
    "letter_a = 3\n",
    "\n",
    "# a)\n",
    "(letter_a / total) * (first_half_dict['A'] / len(first_half))"
   ]
  },
  {
   "cell_type": "code",
   "execution_count": 32,
   "metadata": {},
   "outputs": [
    {
     "output_type": "execute_result",
     "data": {
      "text/plain": "0.25"
     },
     "metadata": {},
     "execution_count": 32
    }
   ],
   "source": [
    "# B) \n",
    "(4 / total) * (2 / len(first_half))"
   ]
  },
  {
   "cell_type": "code",
   "execution_count": 39,
   "metadata": {},
   "outputs": [],
   "source": [
    "#              softball game\n",
    "#           70% /         \\ 30%\n",
    "#              /           \\\n",
    "#         heavy fog    light drizzle\n",
    "#       30% / \\ 70%       80% / \\ 20%\n",
    "#          /   \\             /   \\\n",
    "#  cancel  not cancel   cancel  not cancel "
   ]
  },
  {
   "cell_type": "code",
   "execution_count": 40,
   "metadata": {},
   "outputs": [
    {
     "output_type": "execute_result",
     "data": {
      "text/plain": "0.44999999999999996"
     },
     "metadata": {},
     "execution_count": 40
    }
   ],
   "source": [
    "(0.70 * 0.30) + (0.3 * 0.80)"
   ]
  },
  {
   "cell_type": "code",
   "execution_count": 42,
   "metadata": {},
   "outputs": [
    {
     "output_type": "execute_result",
     "data": {
      "text/plain": "0.06"
     },
     "metadata": {},
     "execution_count": 42
    }
   ],
   "source": [
    "(0.3 * 0.2)"
   ]
  },
  {
   "cell_type": "code",
   "execution_count": 43,
   "metadata": {},
   "outputs": [],
   "source": [
    "#          5/6  /         \\ 1/ 6\n",
    "#              /           \\\n",
    "#            X              Y\n",
    "#       2/5 / \\ 3/5    3/4 / \\ 1/4\n",
    "#          /   \\          /   \\\n",
    "#         X     Y       X       Y"
   ]
  },
  {
   "cell_type": "code",
   "execution_count": 46,
   "metadata": {},
   "outputs": [
    {
     "output_type": "execute_result",
     "data": {
      "text/plain": "0.041666666666666664"
     },
     "metadata": {},
     "execution_count": 46
    }
   ],
   "source": [
    "# Not X\n",
    "(1/6) * (1/4)"
   ]
  },
  {
   "cell_type": "code",
   "execution_count": null,
   "metadata": {},
   "outputs": [],
   "source": []
  }
 ],
 "metadata": {
  "kernelspec": {
   "name": "python37664bitb717e909334440bbbf24cce6d1ff561e",
   "display_name": "Python 3.7.6 64-bit"
  }
 },
 "nbformat": 4,
 "nbformat_minor": 4
}