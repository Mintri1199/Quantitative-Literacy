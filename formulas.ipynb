{
 "cells": [
  {
   "cell_type": "code",
   "execution_count": 3,
   "metadata": {},
   "outputs": [
    {
     "output_type": "stream",
     "name": "stdout",
     "text": "12.566370614359172\n"
    }
   ],
   "source": [
    "import numpy, math \n",
    "\n",
    "def circumference(radius):\n",
    "    return (2 * math.pi) * radius\n",
    "\n",
    "print(circumference(2))"
   ]
  },
  {
   "cell_type": "code",
   "execution_count": 5,
   "metadata": {},
   "outputs": [
    {
     "output_type": "stream",
     "name": "stdout",
     "text": "50.26548245743669\n"
    }
   ],
   "source": [
    "def area_sphere(radius):\n",
    "    return (4 * math.pi) * (radius**2)\n",
    "\n",
    "print(area_sphere(2))"
   ]
  },
  {
   "cell_type": "code",
   "execution_count": 6,
   "metadata": {},
   "outputs": [
    {
     "output_type": "stream",
     "name": "stdout",
     "text": "10.0\n"
    }
   ],
   "source": [
    "def area_traperzoid(a, b, h):\n",
    "    return ((a + b) / 2) * h\n",
    "\n",
    "print(area_traperzoid(2, 3, 4))"
   ]
  },
  {
   "cell_type": "code",
   "execution_count": 17,
   "metadata": {},
   "outputs": [
    {
     "output_type": "stream",
     "name": "stdout",
     "text": "5.0\n"
    }
   ],
   "source": [
    "def mean_formula(arr):\n",
    "    return sum(arr) / len(arr)\n",
    "\n",
    "print(mean_formula([2,3,4,6,7,8]))"
   ]
  },
  {
   "cell_type": "code",
   "execution_count": 18,
   "metadata": {},
   "outputs": [
    {
     "output_type": "stream",
     "name": "stdout",
     "text": "2.160246899469287\n"
    }
   ],
   "source": [
    "def std_deviation(n):\n",
    "    initial = 0\n",
    "    n_mean = mean_formula(n)\n",
    "    for x in n:\n",
    "        initial += (x - n_mean)**2\n",
    "    \n",
    "    result = (initial / len(n))\n",
    "\n",
    "    return (initial / len(n))**0.5\n",
    "\n",
    "print(std_deviation([2,3,4,6,7,8]))"
   ]
  },
  {
   "cell_type": "code",
   "execution_count": null,
   "metadata": {},
   "outputs": [],
   "source": []
  }
 ],
 "metadata": {
  "kernelspec": {
   "name": "python37664bitb717e909334440bbbf24cce6d1ff561e",
   "display_name": "Python 3.7.6 64-bit"
  }
 },
 "nbformat": 4,
 "nbformat_minor": 4
}